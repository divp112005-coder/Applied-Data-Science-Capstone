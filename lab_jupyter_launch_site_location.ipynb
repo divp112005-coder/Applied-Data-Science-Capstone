{
  "metadata": {
    "kernelspec": {
      "name": "python",
      "display_name": "Python (Pyodide)",
      "language": "python"
    },
    "language_info": {
      "codemirror_mode": {
        "name": "python",
        "version": 3
      },
      "file_extension": ".py",
      "mimetype": "text/x-python",
      "name": "python",
      "nbconvert_exporter": "python",
      "pygments_lexer": "ipython3",
      "version": "3.8"
    },
    "prev_pub_hash": "0f9db842b41c859223722809f8be602f5df9334348bd206b11e3af58c30eb345"
  },
  "nbformat_minor": 4,
  "nbformat": 4,
  "cells": [
    {
      "cell_type": "markdown",
      "source": "<p style=\"text-align:center\">\n    <a href=\"https://skills.network/?utm_medium=Exinfluencer&utm_source=Exinfluencer&utm_content=000026UJ&utm_term=10006555&utm_id=NA-SkillsNetwork-Channel-SkillsNetworkCoursesIBMDS0321ENSkillsNetwork26802033-2022-01-01\" target=\"_blank\">\n    <img src=\"https://cf-courses-data.s3.us.cloud-object-storage.appdomain.cloud/assets/logos/SN_web_lightmode.png\" width=\"200\" alt=\"Skills Network Logo\">\n    </a>\n</p>\n",
      "metadata": {}
    },
    {
      "cell_type": "markdown",
      "source": "# **Hands-on Lab: Interactive Visual Analytics with Folium**\n",
      "metadata": {}
    },
    {
      "cell_type": "markdown",
      "source": "Estimated time needed: **40** minutes\n",
      "metadata": {}
    },
    {
      "cell_type": "markdown",
      "source": "The launch success rate may depend on many factors such as payload mass, orbit type, and so on. It may also depend on the location and proximities of a launch site, i.e., the initial position of rocket trajectories. Finding an optimal location for building a launch site certainly involves many factors and hopefully we could discover some of the factors by analyzing the existing launch site locations.\n",
      "metadata": {}
    },
    {
      "cell_type": "markdown",
      "source": "In the previous exploratory data analysis labs, you have visualized the SpaceX launch dataset using `matplotlib` and `seaborn` and discovered some preliminary correlations between the launch site and success rates. In this lab, you will be performing more interactive visual analytics using `Folium`.\n",
      "metadata": {}
    },
    {
      "cell_type": "markdown",
      "source": "## Objectives\n",
      "metadata": {}
    },
    {
      "cell_type": "markdown",
      "source": "This lab contains the following tasks:\n\n*   **TASK 1:** Mark all launch sites on a map\n*   **TASK 2:** Mark the success/failed launches for each site on the map\n*   **TASK 3:** Calculate the distances between a launch site to its proximities\n\nAfter completed the above tasks, you should be able to find some geographical patterns about launch sites.\n",
      "metadata": {}
    },
    {
      "cell_type": "markdown",
      "source": "Let's first import required Python packages for this lab:\n",
      "metadata": {}
    },
    {
      "cell_type": "code",
      "source": "import piplite\nawait piplite.install(['folium'])\nawait piplite.install(['pandas'])",
      "metadata": {
        "trusted": true
      },
      "outputs": [],
      "execution_count": 1
    },
    {
      "cell_type": "code",
      "source": "import folium\nimport pandas as pd",
      "metadata": {
        "trusted": true
      },
      "outputs": [],
      "execution_count": 2
    },
    {
      "cell_type": "code",
      "source": "# Import folium MarkerCluster plugin\nfrom folium.plugins import MarkerCluster\n# Import folium MousePosition plugin\nfrom folium.plugins import MousePosition\n# Import folium DivIcon plugin\nfrom folium.features import DivIcon",
      "metadata": {
        "trusted": true
      },
      "outputs": [],
      "execution_count": 4
    },
    {
      "cell_type": "markdown",
      "source": "If you need to refresh your memory about folium, you may download and refer to this previous folium lab:\n",
      "metadata": {}
    },
    {
      "cell_type": "markdown",
      "source": "[Generating Maps with Python](https://cf-courses-data.s3.us.cloud-object-storage.appdomain.cloud/IBMDeveloperSkillsNetwork-DV0101EN-SkillsNetwork/labs/v4/DV0101EN-Exercise-Generating-Maps-in-Python.ipynb)\n",
      "metadata": {}
    },
    {
      "cell_type": "code",
      "source": "import pandas as pd\nimport folium\n\n# Create a sample DataFrame for launch sites\nlaunch_sites_df = pd.DataFrame({\n    'Launch Site': ['CCAFS LC-40', 'VAFB SLC-4E', 'KSC LC-39A', 'CCAFS SLC-40'],\n    'Lat': [28.5623, 34.6328, 28.6084, 28.5900],\n    'Long': [-80.5774, -120.6108, -80.6043, -80.6043]\n})\n\n# Create a base map centered around the average location\nmap_launch_sites = folium.Map(\n    location=[launch_sites_df['Lat'].mean(), launch_sites_df['Long'].mean()],\n    zoom_start=5\n)\n\n# Add markers for each launch site\nfor idx, row in launch_sites_df.iterrows():\n    folium.Marker(\n        location=[row['Lat'], row['Long']],\n        popup=row['Launch Site'],\n        icon=folium.Icon(color='red', icon='rocket', prefix='fa')\n    ).add_to(map_launch_sites)\n\n# Display the map\nmap_launch_sites\n",
      "metadata": {
        "trusted": true
      },
      "outputs": [
        {
          "execution_count": 8,
          "output_type": "execute_result",
          "data": {
            "text/plain": "<folium.folium.Map at 0x550fa38>",
            "text/html": "<div style=\"width:100%;\"><div style=\"position:relative;width:100%;height:0;padding-bottom:60%;\"><span style=\"color:#565656\">Make this Notebook Trusted to load map: File -> Trust Notebook</span><iframe srcdoc=\"&lt;!DOCTYPE html&gt;\n&lt;html&gt;\n&lt;head&gt;\n    \n    &lt;meta http-equiv=&quot;content-type&quot; content=&quot;text/html; charset=UTF-8&quot; /&gt;\n    &lt;script src=&quot;https://cdn.jsdelivr.net/npm/leaflet@1.9.3/dist/leaflet.js&quot;&gt;&lt;/script&gt;\n    &lt;script src=&quot;https://code.jquery.com/jquery-3.7.1.min.js&quot;&gt;&lt;/script&gt;\n    &lt;script src=&quot;https://cdn.jsdelivr.net/npm/bootstrap@5.2.2/dist/js/bootstrap.bundle.min.js&quot;&gt;&lt;/script&gt;\n    &lt;script src=&quot;https://cdnjs.cloudflare.com/ajax/libs/Leaflet.awesome-markers/2.0.2/leaflet.awesome-markers.js&quot;&gt;&lt;/script&gt;\n    &lt;link rel=&quot;stylesheet&quot; href=&quot;https://cdn.jsdelivr.net/npm/leaflet@1.9.3/dist/leaflet.css&quot;/&gt;\n    &lt;link rel=&quot;stylesheet&quot; href=&quot;https://cdn.jsdelivr.net/npm/bootstrap@5.2.2/dist/css/bootstrap.min.css&quot;/&gt;\n    &lt;link rel=&quot;stylesheet&quot; href=&quot;https://netdna.bootstrapcdn.com/bootstrap/3.0.0/css/bootstrap-glyphicons.css&quot;/&gt;\n    &lt;link rel=&quot;stylesheet&quot; href=&quot;https://cdn.jsdelivr.net/npm/@fortawesome/fontawesome-free@6.2.0/css/all.min.css&quot;/&gt;\n    &lt;link rel=&quot;stylesheet&quot; href=&quot;https://cdnjs.cloudflare.com/ajax/libs/Leaflet.awesome-markers/2.0.2/leaflet.awesome-markers.css&quot;/&gt;\n    &lt;link rel=&quot;stylesheet&quot; href=&quot;https://cdn.jsdelivr.net/gh/python-visualization/folium/folium/templates/leaflet.awesome.rotate.min.css&quot;/&gt;\n    \n            &lt;meta name=&quot;viewport&quot; content=&quot;width=device-width,\n                initial-scale=1.0, maximum-scale=1.0, user-scalable=no&quot; /&gt;\n            &lt;style&gt;\n                #map_e2fe2013dabf93c4b76c3bccf358c097 {\n                    position: relative;\n                    width: 100.0%;\n                    height: 100.0%;\n                    left: 0.0%;\n                    top: 0.0%;\n                }\n                .leaflet-container { font-size: 1rem; }\n            &lt;/style&gt;\n\n            &lt;style&gt;html, body {\n                width: 100%;\n                height: 100%;\n                margin: 0;\n                padding: 0;\n            }\n            &lt;/style&gt;\n\n            &lt;style&gt;#map {\n                position:absolute;\n                top:0;\n                bottom:0;\n                right:0;\n                left:0;\n                }\n            &lt;/style&gt;\n\n            &lt;script&gt;\n                L_NO_TOUCH = false;\n                L_DISABLE_3D = false;\n            &lt;/script&gt;\n\n        \n&lt;/head&gt;\n&lt;body&gt;\n    \n    \n            &lt;div class=&quot;folium-map&quot; id=&quot;map_e2fe2013dabf93c4b76c3bccf358c097&quot; &gt;&lt;/div&gt;\n        \n&lt;/body&gt;\n&lt;script&gt;\n    \n    \n            var map_e2fe2013dabf93c4b76c3bccf358c097 = L.map(\n                &quot;map_e2fe2013dabf93c4b76c3bccf358c097&quot;,\n                {\n                    center: [30.098375, -90.5992],\n                    crs: L.CRS.EPSG3857,\n                    ...{\n  &quot;zoom&quot;: 5,\n  &quot;zoomControl&quot;: true,\n  &quot;preferCanvas&quot;: false,\n}\n\n                }\n            );\n\n            \n\n        \n    \n            var tile_layer_da067aced8f07150ad18b2e6a2a5846a = L.tileLayer(\n                &quot;https://tile.openstreetmap.org/{z}/{x}/{y}.png&quot;,\n                {\n  &quot;minZoom&quot;: 0,\n  &quot;maxZoom&quot;: 19,\n  &quot;maxNativeZoom&quot;: 19,\n  &quot;noWrap&quot;: false,\n  &quot;attribution&quot;: &quot;\\u0026copy; \\u003ca href=\\&quot;https://www.openstreetmap.org/copyright\\&quot;\\u003eOpenStreetMap\\u003c/a\\u003e contributors&quot;,\n  &quot;subdomains&quot;: &quot;abc&quot;,\n  &quot;detectRetina&quot;: false,\n  &quot;tms&quot;: false,\n  &quot;opacity&quot;: 1,\n}\n\n            );\n        \n    \n            tile_layer_da067aced8f07150ad18b2e6a2a5846a.addTo(map_e2fe2013dabf93c4b76c3bccf358c097);\n        \n    \n            var marker_2adc01aaa7723a98e4d855f38f7ea2a0 = L.marker(\n                [28.5623, -80.5774],\n                {\n}\n            ).addTo(map_e2fe2013dabf93c4b76c3bccf358c097);\n        \n    \n            var icon_e029c35a12900aa2ec717dad24457013 = L.AwesomeMarkers.icon(\n                {\n  &quot;markerColor&quot;: &quot;red&quot;,\n  &quot;iconColor&quot;: &quot;white&quot;,\n  &quot;icon&quot;: &quot;rocket&quot;,\n  &quot;prefix&quot;: &quot;fa&quot;,\n  &quot;extraClasses&quot;: &quot;fa-rotate-0&quot;,\n}\n            );\n        \n    \n        var popup_2efa782e5648a3e5def0da769a37ff63 = L.popup({\n  &quot;maxWidth&quot;: &quot;100%&quot;,\n});\n\n        \n            \n                var html_578a1abbfdde552465eb47abe3ed21ca = $(`&lt;div id=&quot;html_578a1abbfdde552465eb47abe3ed21ca&quot; style=&quot;width: 100.0%; height: 100.0%;&quot;&gt;CCAFS LC-40&lt;/div&gt;`)[0];\n                popup_2efa782e5648a3e5def0da769a37ff63.setContent(html_578a1abbfdde552465eb47abe3ed21ca);\n            \n        \n\n        marker_2adc01aaa7723a98e4d855f38f7ea2a0.bindPopup(popup_2efa782e5648a3e5def0da769a37ff63)\n        ;\n\n        \n    \n    \n                marker_2adc01aaa7723a98e4d855f38f7ea2a0.setIcon(icon_e029c35a12900aa2ec717dad24457013);\n            \n    \n            var marker_0fcf8144d287385deeb36806ad9871b5 = L.marker(\n                [34.6328, -120.6108],\n                {\n}\n            ).addTo(map_e2fe2013dabf93c4b76c3bccf358c097);\n        \n    \n            var icon_e52ae9cd30695ba9fa4652e62540cf83 = L.AwesomeMarkers.icon(\n                {\n  &quot;markerColor&quot;: &quot;red&quot;,\n  &quot;iconColor&quot;: &quot;white&quot;,\n  &quot;icon&quot;: &quot;rocket&quot;,\n  &quot;prefix&quot;: &quot;fa&quot;,\n  &quot;extraClasses&quot;: &quot;fa-rotate-0&quot;,\n}\n            );\n        \n    \n        var popup_e821a124223da6de47f66aff25173240 = L.popup({\n  &quot;maxWidth&quot;: &quot;100%&quot;,\n});\n\n        \n            \n                var html_7f8841dca74c7d92afc70814dcc549b0 = $(`&lt;div id=&quot;html_7f8841dca74c7d92afc70814dcc549b0&quot; style=&quot;width: 100.0%; height: 100.0%;&quot;&gt;VAFB SLC-4E&lt;/div&gt;`)[0];\n                popup_e821a124223da6de47f66aff25173240.setContent(html_7f8841dca74c7d92afc70814dcc549b0);\n            \n        \n\n        marker_0fcf8144d287385deeb36806ad9871b5.bindPopup(popup_e821a124223da6de47f66aff25173240)\n        ;\n\n        \n    \n    \n                marker_0fcf8144d287385deeb36806ad9871b5.setIcon(icon_e52ae9cd30695ba9fa4652e62540cf83);\n            \n    \n            var marker_87b2893b18cfcbd838d0ac38660c9d28 = L.marker(\n                [28.6084, -80.6043],\n                {\n}\n            ).addTo(map_e2fe2013dabf93c4b76c3bccf358c097);\n        \n    \n            var icon_0bd32844df338fb47f673249d8615402 = L.AwesomeMarkers.icon(\n                {\n  &quot;markerColor&quot;: &quot;red&quot;,\n  &quot;iconColor&quot;: &quot;white&quot;,\n  &quot;icon&quot;: &quot;rocket&quot;,\n  &quot;prefix&quot;: &quot;fa&quot;,\n  &quot;extraClasses&quot;: &quot;fa-rotate-0&quot;,\n}\n            );\n        \n    \n        var popup_1002a503e99081d90408347f1c5a65fa = L.popup({\n  &quot;maxWidth&quot;: &quot;100%&quot;,\n});\n\n        \n            \n                var html_bf0259692dc26549eea7f9034bf3cfee = $(`&lt;div id=&quot;html_bf0259692dc26549eea7f9034bf3cfee&quot; style=&quot;width: 100.0%; height: 100.0%;&quot;&gt;KSC LC-39A&lt;/div&gt;`)[0];\n                popup_1002a503e99081d90408347f1c5a65fa.setContent(html_bf0259692dc26549eea7f9034bf3cfee);\n            \n        \n\n        marker_87b2893b18cfcbd838d0ac38660c9d28.bindPopup(popup_1002a503e99081d90408347f1c5a65fa)\n        ;\n\n        \n    \n    \n                marker_87b2893b18cfcbd838d0ac38660c9d28.setIcon(icon_0bd32844df338fb47f673249d8615402);\n            \n    \n            var marker_601a0903be7c115bf3a03040fb29f7db = L.marker(\n                [28.59, -80.6043],\n                {\n}\n            ).addTo(map_e2fe2013dabf93c4b76c3bccf358c097);\n        \n    \n            var icon_e7f50ddef5f0a2d252c08cadef1b610a = L.AwesomeMarkers.icon(\n                {\n  &quot;markerColor&quot;: &quot;red&quot;,\n  &quot;iconColor&quot;: &quot;white&quot;,\n  &quot;icon&quot;: &quot;rocket&quot;,\n  &quot;prefix&quot;: &quot;fa&quot;,\n  &quot;extraClasses&quot;: &quot;fa-rotate-0&quot;,\n}\n            );\n        \n    \n        var popup_39d1d17f4c69805a53359b33793236dc = L.popup({\n  &quot;maxWidth&quot;: &quot;100%&quot;,\n});\n\n        \n            \n                var html_63cc366871fab1259aa1bd436ce93579 = $(`&lt;div id=&quot;html_63cc366871fab1259aa1bd436ce93579&quot; style=&quot;width: 100.0%; height: 100.0%;&quot;&gt;CCAFS SLC-40&lt;/div&gt;`)[0];\n                popup_39d1d17f4c69805a53359b33793236dc.setContent(html_63cc366871fab1259aa1bd436ce93579);\n            \n        \n\n        marker_601a0903be7c115bf3a03040fb29f7db.bindPopup(popup_39d1d17f4c69805a53359b33793236dc)\n        ;\n\n        \n    \n    \n                marker_601a0903be7c115bf3a03040fb29f7db.setIcon(icon_e7f50ddef5f0a2d252c08cadef1b610a);\n            \n&lt;/script&gt;\n&lt;/html&gt;\" style=\"position:absolute;width:100%;height:100%;left:0;top:0;border:none !important;\" allowfullscreen webkitallowfullscreen mozallowfullscreen></iframe></div></div>"
          },
          "metadata": {}
        }
      ],
      "execution_count": 8
    },
    {
      "cell_type": "markdown",
      "source": "First, let's try to add each site's location on a map using site's latitude and longitude coordinates\n",
      "metadata": {}
    },
    {
      "cell_type": "markdown",
      "source": "The following dataset with the name `spacex_launch_geo.csv` is an augmented dataset with latitude and longitude added for each site.\n",
      "metadata": {}
    },
    {
      "cell_type": "code",
      "source": "# Download and read the `spacex_launch_geo.csv`\nfrom js import fetch\nimport io\n\nURL = 'https://cf-courses-data.s3.us.cloud-object-storage.appdomain.cloud/IBM-DS0321EN-SkillsNetwork/datasets/spacex_launch_geo.csv'\nresp = await fetch(URL)\nspacex_csv_file = io.BytesIO((await resp.arrayBuffer()).to_py())\nspacex_df=pd.read_csv(spacex_csv_file)",
      "metadata": {
        "trusted": true
      },
      "outputs": [],
      "execution_count": 11
    },
    {
      "cell_type": "markdown",
      "source": "Now, you can take a look at what are the coordinates for each site.\n",
      "metadata": {}
    },
    {
      "cell_type": "code",
      "source": "# Select relevant sub-columns: `Launch Site`, `Lat(Latitude)`, `Long(Longitude)`, `class`\nspacex_df = spacex_df[['Launch Site', 'Lat', 'Long', 'class']]\nlaunch_sites_df = spacex_df.groupby(['Launch Site'], as_index=False).first()\nlaunch_sites_df = launch_sites_df[['Launch Site', 'Lat', 'Long']]\nlaunch_sites_df",
      "metadata": {
        "trusted": true
      },
      "outputs": [
        {
          "execution_count": 12,
          "output_type": "execute_result",
          "data": {
            "text/plain": "    Launch Site        Lat        Long\n0   CCAFS LC-40  28.562302  -80.577356\n1  CCAFS SLC-40  28.563197  -80.576820\n2    KSC LC-39A  28.573255  -80.646895\n3   VAFB SLC-4E  34.632834 -120.610745",
            "text/html": "<div>\n<style scoped>\n    .dataframe tbody tr th:only-of-type {\n        vertical-align: middle;\n    }\n\n    .dataframe tbody tr th {\n        vertical-align: top;\n    }\n\n    .dataframe thead th {\n        text-align: right;\n    }\n</style>\n<table border=\"1\" class=\"dataframe\">\n  <thead>\n    <tr style=\"text-align: right;\">\n      <th></th>\n      <th>Launch Site</th>\n      <th>Lat</th>\n      <th>Long</th>\n    </tr>\n  </thead>\n  <tbody>\n    <tr>\n      <th>0</th>\n      <td>CCAFS LC-40</td>\n      <td>28.562302</td>\n      <td>-80.577356</td>\n    </tr>\n    <tr>\n      <th>1</th>\n      <td>CCAFS SLC-40</td>\n      <td>28.563197</td>\n      <td>-80.576820</td>\n    </tr>\n    <tr>\n      <th>2</th>\n      <td>KSC LC-39A</td>\n      <td>28.573255</td>\n      <td>-80.646895</td>\n    </tr>\n    <tr>\n      <th>3</th>\n      <td>VAFB SLC-4E</td>\n      <td>34.632834</td>\n      <td>-120.610745</td>\n    </tr>\n  </tbody>\n</table>\n</div>"
          },
          "metadata": {}
        }
      ],
      "execution_count": 12
    },
    {
      "cell_type": "markdown",
      "source": "Above coordinates are just plain numbers that can not give you any intuitive insights about where are those launch sites. If you are very good at geography, you can interpret those numbers directly in your mind. If not, that's fine too. Let's visualize those locations by pinning them on a map.\n",
      "metadata": {}
    },
    {
      "cell_type": "markdown",
      "source": "We first need to create a folium `Map` object, with an initial center location to be NASA Johnson Space Center at Houston, Texas.\n",
      "metadata": {}
    },
    {
      "cell_type": "code",
      "source": "# Start location is NASA Johnson Space Center\nnasa_coordinate = [29.559684888503615, -95.0830971930759]\nsite_map = folium.Map(location=nasa_coordinate, zoom_start=10)",
      "metadata": {
        "trusted": true
      },
      "outputs": [],
      "execution_count": 13
    },
    {
      "cell_type": "markdown",
      "source": "We could use `folium.Circle` to add a highlighted circle area with a text label on a specific coordinate. For example,\n",
      "metadata": {}
    },
    {
      "cell_type": "code",
      "source": "# Create a blue circle at NASA Johnson Space Center's coordinate with a popup label showing its name\ncircle = folium.Circle(nasa_coordinate, radius=1000, color='#d35400', fill=True).add_child(folium.Popup('NASA Johnson Space Center'))\n# Create a blue circle at NASA Johnson Space Center's coordinate with a icon showing its name\nmarker = folium.map.Marker(\n    nasa_coordinate,\n    # Create an icon as a text label\n    icon=DivIcon(\n        icon_size=(20,20),\n        icon_anchor=(0,0),\n        html='<div style=\"font-size: 12; color:#d35400;\"><b>%s</b></div>' % 'NASA JSC',\n        )\n    )\nsite_map.add_child(circle)\nsite_map.add_child(marker)",
      "metadata": {
        "trusted": true
      },
      "outputs": [
        {
          "execution_count": 14,
          "output_type": "execute_result",
          "data": {
            "text/plain": "<folium.folium.Map at 0x6c8cc00>",
            "text/html": "<div style=\"width:100%;\"><div style=\"position:relative;width:100%;height:0;padding-bottom:60%;\"><span style=\"color:#565656\">Make this Notebook Trusted to load map: File -> Trust Notebook</span><iframe srcdoc=\"&lt;!DOCTYPE html&gt;\n&lt;html&gt;\n&lt;head&gt;\n    \n    &lt;meta http-equiv=&quot;content-type&quot; content=&quot;text/html; charset=UTF-8&quot; /&gt;\n    &lt;script src=&quot;https://cdn.jsdelivr.net/npm/leaflet@1.9.3/dist/leaflet.js&quot;&gt;&lt;/script&gt;\n    &lt;script src=&quot;https://code.jquery.com/jquery-3.7.1.min.js&quot;&gt;&lt;/script&gt;\n    &lt;script src=&quot;https://cdn.jsdelivr.net/npm/bootstrap@5.2.2/dist/js/bootstrap.bundle.min.js&quot;&gt;&lt;/script&gt;\n    &lt;script src=&quot;https://cdnjs.cloudflare.com/ajax/libs/Leaflet.awesome-markers/2.0.2/leaflet.awesome-markers.js&quot;&gt;&lt;/script&gt;\n    &lt;link rel=&quot;stylesheet&quot; href=&quot;https://cdn.jsdelivr.net/npm/leaflet@1.9.3/dist/leaflet.css&quot;/&gt;\n    &lt;link rel=&quot;stylesheet&quot; href=&quot;https://cdn.jsdelivr.net/npm/bootstrap@5.2.2/dist/css/bootstrap.min.css&quot;/&gt;\n    &lt;link rel=&quot;stylesheet&quot; href=&quot;https://netdna.bootstrapcdn.com/bootstrap/3.0.0/css/bootstrap-glyphicons.css&quot;/&gt;\n    &lt;link rel=&quot;stylesheet&quot; href=&quot;https://cdn.jsdelivr.net/npm/@fortawesome/fontawesome-free@6.2.0/css/all.min.css&quot;/&gt;\n    &lt;link rel=&quot;stylesheet&quot; href=&quot;https://cdnjs.cloudflare.com/ajax/libs/Leaflet.awesome-markers/2.0.2/leaflet.awesome-markers.css&quot;/&gt;\n    &lt;link rel=&quot;stylesheet&quot; href=&quot;https://cdn.jsdelivr.net/gh/python-visualization/folium/folium/templates/leaflet.awesome.rotate.min.css&quot;/&gt;\n    \n            &lt;meta name=&quot;viewport&quot; content=&quot;width=device-width,\n                initial-scale=1.0, maximum-scale=1.0, user-scalable=no&quot; /&gt;\n            &lt;style&gt;\n                #map_13c37000f0686222854eedb93d70a108 {\n                    position: relative;\n                    width: 100.0%;\n                    height: 100.0%;\n                    left: 0.0%;\n                    top: 0.0%;\n                }\n                .leaflet-container { font-size: 1rem; }\n            &lt;/style&gt;\n\n            &lt;style&gt;html, body {\n                width: 100%;\n                height: 100%;\n                margin: 0;\n                padding: 0;\n            }\n            &lt;/style&gt;\n\n            &lt;style&gt;#map {\n                position:absolute;\n                top:0;\n                bottom:0;\n                right:0;\n                left:0;\n                }\n            &lt;/style&gt;\n\n            &lt;script&gt;\n                L_NO_TOUCH = false;\n                L_DISABLE_3D = false;\n            &lt;/script&gt;\n\n        \n&lt;/head&gt;\n&lt;body&gt;\n    \n    \n            &lt;div class=&quot;folium-map&quot; id=&quot;map_13c37000f0686222854eedb93d70a108&quot; &gt;&lt;/div&gt;\n        \n&lt;/body&gt;\n&lt;script&gt;\n    \n    \n            var map_13c37000f0686222854eedb93d70a108 = L.map(\n                &quot;map_13c37000f0686222854eedb93d70a108&quot;,\n                {\n                    center: [29.559684888503615, -95.0830971930759],\n                    crs: L.CRS.EPSG3857,\n                    ...{\n  &quot;zoom&quot;: 10,\n  &quot;zoomControl&quot;: true,\n  &quot;preferCanvas&quot;: false,\n}\n\n                }\n            );\n\n            \n\n        \n    \n            var tile_layer_44cd463a69231815af224caa34016aba = L.tileLayer(\n                &quot;https://tile.openstreetmap.org/{z}/{x}/{y}.png&quot;,\n                {\n  &quot;minZoom&quot;: 0,\n  &quot;maxZoom&quot;: 19,\n  &quot;maxNativeZoom&quot;: 19,\n  &quot;noWrap&quot;: false,\n  &quot;attribution&quot;: &quot;\\u0026copy; \\u003ca href=\\&quot;https://www.openstreetmap.org/copyright\\&quot;\\u003eOpenStreetMap\\u003c/a\\u003e contributors&quot;,\n  &quot;subdomains&quot;: &quot;abc&quot;,\n  &quot;detectRetina&quot;: false,\n  &quot;tms&quot;: false,\n  &quot;opacity&quot;: 1,\n}\n\n            );\n        \n    \n            tile_layer_44cd463a69231815af224caa34016aba.addTo(map_13c37000f0686222854eedb93d70a108);\n        \n    \n            var circle_ed359c8563ab2db82a43c060e3cc1c40 = L.circle(\n                [29.559684888503615, -95.0830971930759],\n                {&quot;bubblingMouseEvents&quot;: true, &quot;color&quot;: &quot;#d35400&quot;, &quot;dashArray&quot;: null, &quot;dashOffset&quot;: null, &quot;fill&quot;: true, &quot;fillColor&quot;: &quot;#d35400&quot;, &quot;fillOpacity&quot;: 0.2, &quot;fillRule&quot;: &quot;evenodd&quot;, &quot;lineCap&quot;: &quot;round&quot;, &quot;lineJoin&quot;: &quot;round&quot;, &quot;opacity&quot;: 1.0, &quot;radius&quot;: 1000, &quot;stroke&quot;: true, &quot;weight&quot;: 3}\n            ).addTo(map_13c37000f0686222854eedb93d70a108);\n        \n    \n        var popup_8c9a884258bab912a6de9f43dad98707 = L.popup({\n  &quot;maxWidth&quot;: &quot;100%&quot;,\n});\n\n        \n            \n                var html_0354fa3c47b79461e048cc50335c5c67 = $(`&lt;div id=&quot;html_0354fa3c47b79461e048cc50335c5c67&quot; style=&quot;width: 100.0%; height: 100.0%;&quot;&gt;NASA Johnson Space Center&lt;/div&gt;`)[0];\n                popup_8c9a884258bab912a6de9f43dad98707.setContent(html_0354fa3c47b79461e048cc50335c5c67);\n            \n        \n\n        circle_ed359c8563ab2db82a43c060e3cc1c40.bindPopup(popup_8c9a884258bab912a6de9f43dad98707)\n        ;\n\n        \n    \n    \n            var marker_d1afb01d26f2640e94d8c7df8e746ce2 = L.marker(\n                [29.559684888503615, -95.0830971930759],\n                {\n}\n            ).addTo(map_13c37000f0686222854eedb93d70a108);\n        \n    \n            var div_icon_1a284ee63c405385d8ec2a1054be85aa = L.divIcon({\n  &quot;html&quot;: &quot;\\u003cdiv style=\\&quot;font-size: 12; color:#d35400;\\&quot;\\u003e\\u003cb\\u003eNASA JSC\\u003c/b\\u003e\\u003c/div\\u003e&quot;,\n  &quot;iconSize&quot;: [20, 20],\n  &quot;iconAnchor&quot;: [0, 0],\n  &quot;className&quot;: &quot;empty&quot;,\n});\n        \n    \n                marker_d1afb01d26f2640e94d8c7df8e746ce2.setIcon(div_icon_1a284ee63c405385d8ec2a1054be85aa);\n            \n&lt;/script&gt;\n&lt;/html&gt;\" style=\"position:absolute;width:100%;height:100%;left:0;top:0;border:none !important;\" allowfullscreen webkitallowfullscreen mozallowfullscreen></iframe></div></div>"
          },
          "metadata": {}
        }
      ],
      "execution_count": 14
    },
    {
      "cell_type": "markdown",
      "source": "and you should find a small yellow circle near the city of Houston and you can zoom-in to see a larger circle.\n",
      "metadata": {}
    },
    {
      "cell_type": "markdown",
      "source": "Now, let's add a circle for each launch site in data frame `launch_sites`\n",
      "metadata": {}
    },
    {
      "cell_type": "markdown",
      "source": "*TODO:*  Create and add `folium.Circle` and `folium.Marker` for each launch site on the site map\n",
      "metadata": {}
    },
    {
      "cell_type": "markdown",
      "source": "An example of folium.Circle:\n",
      "metadata": {}
    },
    {
      "cell_type": "markdown",
      "source": "`folium.Circle(coordinate, radius=1000, color='#000000', fill=True).add_child(folium.Popup(...))`\n",
      "metadata": {}
    },
    {
      "cell_type": "markdown",
      "source": "An example of folium.Marker:\n",
      "metadata": {}
    },
    {
      "cell_type": "markdown",
      "source": "`folium.map.Marker(coordinate, icon=DivIcon(icon_size=(20,20),icon_anchor=(0,0), html='<div style=\"font-size: 12; color:#d35400;\"><b>%s</b></div>' % 'label', ))`\n",
      "metadata": {}
    },
    {
      "cell_type": "code",
      "source": "# Initial the map\nsite_map = folium.Map(location=nasa_coordinate, zoom_start=5)\n# For each launch site, add a Circle object based on its coordinate (Lat, Long) values. In addition, add Launch site name as a popup label\n",
      "metadata": {
        "trusted": true
      },
      "outputs": [],
      "execution_count": 15
    },
    {
      "cell_type": "markdown",
      "source": "The generated map with marked launch sites should look similar to the following:\n",
      "metadata": {}
    },
    {
      "cell_type": "markdown",
      "source": "<center>\n    <img src=\"https://cf-courses-data.s3.us.cloud-object-storage.appdomain.cloud/IBM-DS0321EN-SkillsNetwork/labs/module_3/images/launch_site_markers.png\">\n</center>\n",
      "metadata": {}
    },
    {
      "cell_type": "markdown",
      "source": "Now, you can explore the map by zoom-in/out the marked areas\n, and try to answer the following questions:\n\n*   Are all launch sites in proximity to the Equator line?\n*   Are all launch sites in very close proximity to the coast?\n\nAlso please try to explain your findings.\n",
      "metadata": {}
    },
    {
      "cell_type": "code",
      "source": "# Task 2: Mark the success/failed launches for each site on the map\nimport folium\n\n# Sample data with success/failure\nlaunches_df = pd.DataFrame({\n    'Launch Site': ['CCAFS LC-40', 'VAFB SLC-4E', 'KSC LC-39A', 'CCAFS SLC-40'],\n    'Lat': [28.5623, 34.6328, 28.6084, 28.5900],\n    'Long': [-80.5774, -120.6108, -80.6043, -80.6043],\n    'Class': [1, 0, 1, 0]  # 1 = success, 0 = failure\n})\n\n# Create a map centered around the average location\nmap_launches = folium.Map(\n    location=[launches_df['Lat'].mean(), launches_df['Long'].mean()],\n    zoom_start=5\n)\n\n# Add markers for each launch\nfor idx, row in launches_df.iterrows():\n    color = 'green' if row['Class'] == 1 else 'red'  # green=success, red=failure\n    folium.Marker(\n        location=[row['Lat'], row['Long']],\n        popup=f\"{row['Launch Site']} - {'Success' if row['Class'] == 1 else 'Failure'}\",\n        icon=folium.Icon(color=color, icon='rocket', prefix='fa')\n    ).add_to(map_launches)\n\n# Display the map\nmap_launches\n",
      "metadata": {
        "trusted": true
      },
      "outputs": [
        {
          "execution_count": 16,
          "output_type": "execute_result",
          "data": {
            "text/plain": "<folium.folium.Map at 0x6d33720>",
            "text/html": "<div style=\"width:100%;\"><div style=\"position:relative;width:100%;height:0;padding-bottom:60%;\"><span style=\"color:#565656\">Make this Notebook Trusted to load map: File -> Trust Notebook</span><iframe srcdoc=\"&lt;!DOCTYPE html&gt;\n&lt;html&gt;\n&lt;head&gt;\n    \n    &lt;meta http-equiv=&quot;content-type&quot; content=&quot;text/html; charset=UTF-8&quot; /&gt;\n    &lt;script src=&quot;https://cdn.jsdelivr.net/npm/leaflet@1.9.3/dist/leaflet.js&quot;&gt;&lt;/script&gt;\n    &lt;script src=&quot;https://code.jquery.com/jquery-3.7.1.min.js&quot;&gt;&lt;/script&gt;\n    &lt;script src=&quot;https://cdn.jsdelivr.net/npm/bootstrap@5.2.2/dist/js/bootstrap.bundle.min.js&quot;&gt;&lt;/script&gt;\n    &lt;script src=&quot;https://cdnjs.cloudflare.com/ajax/libs/Leaflet.awesome-markers/2.0.2/leaflet.awesome-markers.js&quot;&gt;&lt;/script&gt;\n    &lt;link rel=&quot;stylesheet&quot; href=&quot;https://cdn.jsdelivr.net/npm/leaflet@1.9.3/dist/leaflet.css&quot;/&gt;\n    &lt;link rel=&quot;stylesheet&quot; href=&quot;https://cdn.jsdelivr.net/npm/bootstrap@5.2.2/dist/css/bootstrap.min.css&quot;/&gt;\n    &lt;link rel=&quot;stylesheet&quot; href=&quot;https://netdna.bootstrapcdn.com/bootstrap/3.0.0/css/bootstrap-glyphicons.css&quot;/&gt;\n    &lt;link rel=&quot;stylesheet&quot; href=&quot;https://cdn.jsdelivr.net/npm/@fortawesome/fontawesome-free@6.2.0/css/all.min.css&quot;/&gt;\n    &lt;link rel=&quot;stylesheet&quot; href=&quot;https://cdnjs.cloudflare.com/ajax/libs/Leaflet.awesome-markers/2.0.2/leaflet.awesome-markers.css&quot;/&gt;\n    &lt;link rel=&quot;stylesheet&quot; href=&quot;https://cdn.jsdelivr.net/gh/python-visualization/folium/folium/templates/leaflet.awesome.rotate.min.css&quot;/&gt;\n    \n            &lt;meta name=&quot;viewport&quot; content=&quot;width=device-width,\n                initial-scale=1.0, maximum-scale=1.0, user-scalable=no&quot; /&gt;\n            &lt;style&gt;\n                #map_dcf3690f6038bc06b329eb6ee6a67e10 {\n                    position: relative;\n                    width: 100.0%;\n                    height: 100.0%;\n                    left: 0.0%;\n                    top: 0.0%;\n                }\n                .leaflet-container { font-size: 1rem; }\n            &lt;/style&gt;\n\n            &lt;style&gt;html, body {\n                width: 100%;\n                height: 100%;\n                margin: 0;\n                padding: 0;\n            }\n            &lt;/style&gt;\n\n            &lt;style&gt;#map {\n                position:absolute;\n                top:0;\n                bottom:0;\n                right:0;\n                left:0;\n                }\n            &lt;/style&gt;\n\n            &lt;script&gt;\n                L_NO_TOUCH = false;\n                L_DISABLE_3D = false;\n            &lt;/script&gt;\n\n        \n&lt;/head&gt;\n&lt;body&gt;\n    \n    \n            &lt;div class=&quot;folium-map&quot; id=&quot;map_dcf3690f6038bc06b329eb6ee6a67e10&quot; &gt;&lt;/div&gt;\n        \n&lt;/body&gt;\n&lt;script&gt;\n    \n    \n            var map_dcf3690f6038bc06b329eb6ee6a67e10 = L.map(\n                &quot;map_dcf3690f6038bc06b329eb6ee6a67e10&quot;,\n                {\n                    center: [30.098375, -90.5992],\n                    crs: L.CRS.EPSG3857,\n                    ...{\n  &quot;zoom&quot;: 5,\n  &quot;zoomControl&quot;: true,\n  &quot;preferCanvas&quot;: false,\n}\n\n                }\n            );\n\n            \n\n        \n    \n            var tile_layer_1266b148a8b9e1705baeb94b32a8d0ae = L.tileLayer(\n                &quot;https://tile.openstreetmap.org/{z}/{x}/{y}.png&quot;,\n                {\n  &quot;minZoom&quot;: 0,\n  &quot;maxZoom&quot;: 19,\n  &quot;maxNativeZoom&quot;: 19,\n  &quot;noWrap&quot;: false,\n  &quot;attribution&quot;: &quot;\\u0026copy; \\u003ca href=\\&quot;https://www.openstreetmap.org/copyright\\&quot;\\u003eOpenStreetMap\\u003c/a\\u003e contributors&quot;,\n  &quot;subdomains&quot;: &quot;abc&quot;,\n  &quot;detectRetina&quot;: false,\n  &quot;tms&quot;: false,\n  &quot;opacity&quot;: 1,\n}\n\n            );\n        \n    \n            tile_layer_1266b148a8b9e1705baeb94b32a8d0ae.addTo(map_dcf3690f6038bc06b329eb6ee6a67e10);\n        \n    \n            var marker_a315b50c576f5bddff2452b631df885a = L.marker(\n                [28.5623, -80.5774],\n                {\n}\n            ).addTo(map_dcf3690f6038bc06b329eb6ee6a67e10);\n        \n    \n            var icon_4fed0c0e8e41453412b700ab73e0f643 = L.AwesomeMarkers.icon(\n                {\n  &quot;markerColor&quot;: &quot;green&quot;,\n  &quot;iconColor&quot;: &quot;white&quot;,\n  &quot;icon&quot;: &quot;rocket&quot;,\n  &quot;prefix&quot;: &quot;fa&quot;,\n  &quot;extraClasses&quot;: &quot;fa-rotate-0&quot;,\n}\n            );\n        \n    \n        var popup_94a86bfe7da9387630917b30dff19d61 = L.popup({\n  &quot;maxWidth&quot;: &quot;100%&quot;,\n});\n\n        \n            \n                var html_3987e7a540cc7bf5ae76573dcbf7e30e = $(`&lt;div id=&quot;html_3987e7a540cc7bf5ae76573dcbf7e30e&quot; style=&quot;width: 100.0%; height: 100.0%;&quot;&gt;CCAFS LC-40 - Success&lt;/div&gt;`)[0];\n                popup_94a86bfe7da9387630917b30dff19d61.setContent(html_3987e7a540cc7bf5ae76573dcbf7e30e);\n            \n        \n\n        marker_a315b50c576f5bddff2452b631df885a.bindPopup(popup_94a86bfe7da9387630917b30dff19d61)\n        ;\n\n        \n    \n    \n                marker_a315b50c576f5bddff2452b631df885a.setIcon(icon_4fed0c0e8e41453412b700ab73e0f643);\n            \n    \n            var marker_dca3a45bc900f4e1694c52c960b2b85e = L.marker(\n                [34.6328, -120.6108],\n                {\n}\n            ).addTo(map_dcf3690f6038bc06b329eb6ee6a67e10);\n        \n    \n            var icon_3116af2ebdda016814b6a6c2204e3754 = L.AwesomeMarkers.icon(\n                {\n  &quot;markerColor&quot;: &quot;red&quot;,\n  &quot;iconColor&quot;: &quot;white&quot;,\n  &quot;icon&quot;: &quot;rocket&quot;,\n  &quot;prefix&quot;: &quot;fa&quot;,\n  &quot;extraClasses&quot;: &quot;fa-rotate-0&quot;,\n}\n            );\n        \n    \n        var popup_3ec88b22e56b03d1f5b01c491c79aea8 = L.popup({\n  &quot;maxWidth&quot;: &quot;100%&quot;,\n});\n\n        \n            \n                var html_b2870155a673dda3d7fec69bfc5d1582 = $(`&lt;div id=&quot;html_b2870155a673dda3d7fec69bfc5d1582&quot; style=&quot;width: 100.0%; height: 100.0%;&quot;&gt;VAFB SLC-4E - Failure&lt;/div&gt;`)[0];\n                popup_3ec88b22e56b03d1f5b01c491c79aea8.setContent(html_b2870155a673dda3d7fec69bfc5d1582);\n            \n        \n\n        marker_dca3a45bc900f4e1694c52c960b2b85e.bindPopup(popup_3ec88b22e56b03d1f5b01c491c79aea8)\n        ;\n\n        \n    \n    \n                marker_dca3a45bc900f4e1694c52c960b2b85e.setIcon(icon_3116af2ebdda016814b6a6c2204e3754);\n            \n    \n            var marker_89c0fd51d8da5b8a44b700f280093e63 = L.marker(\n                [28.6084, -80.6043],\n                {\n}\n            ).addTo(map_dcf3690f6038bc06b329eb6ee6a67e10);\n        \n    \n            var icon_672207edd71ca62a88a2766711a34127 = L.AwesomeMarkers.icon(\n                {\n  &quot;markerColor&quot;: &quot;green&quot;,\n  &quot;iconColor&quot;: &quot;white&quot;,\n  &quot;icon&quot;: &quot;rocket&quot;,\n  &quot;prefix&quot;: &quot;fa&quot;,\n  &quot;extraClasses&quot;: &quot;fa-rotate-0&quot;,\n}\n            );\n        \n    \n        var popup_8dc26fb1dc2804b4af994145f011fe83 = L.popup({\n  &quot;maxWidth&quot;: &quot;100%&quot;,\n});\n\n        \n            \n                var html_e85f2454f216567f9a67779f8a8c2a7d = $(`&lt;div id=&quot;html_e85f2454f216567f9a67779f8a8c2a7d&quot; style=&quot;width: 100.0%; height: 100.0%;&quot;&gt;KSC LC-39A - Success&lt;/div&gt;`)[0];\n                popup_8dc26fb1dc2804b4af994145f011fe83.setContent(html_e85f2454f216567f9a67779f8a8c2a7d);\n            \n        \n\n        marker_89c0fd51d8da5b8a44b700f280093e63.bindPopup(popup_8dc26fb1dc2804b4af994145f011fe83)\n        ;\n\n        \n    \n    \n                marker_89c0fd51d8da5b8a44b700f280093e63.setIcon(icon_672207edd71ca62a88a2766711a34127);\n            \n    \n            var marker_7c52cdae6b5544ab1269cf9fe64c5dd5 = L.marker(\n                [28.59, -80.6043],\n                {\n}\n            ).addTo(map_dcf3690f6038bc06b329eb6ee6a67e10);\n        \n    \n            var icon_d0e179906a27c3eeb0fe6731deb72ce7 = L.AwesomeMarkers.icon(\n                {\n  &quot;markerColor&quot;: &quot;red&quot;,\n  &quot;iconColor&quot;: &quot;white&quot;,\n  &quot;icon&quot;: &quot;rocket&quot;,\n  &quot;prefix&quot;: &quot;fa&quot;,\n  &quot;extraClasses&quot;: &quot;fa-rotate-0&quot;,\n}\n            );\n        \n    \n        var popup_78e4ef7a135b023bd0e8c73708dcdc4d = L.popup({\n  &quot;maxWidth&quot;: &quot;100%&quot;,\n});\n\n        \n            \n                var html_45300cbb8ca24349bd60237137565208 = $(`&lt;div id=&quot;html_45300cbb8ca24349bd60237137565208&quot; style=&quot;width: 100.0%; height: 100.0%;&quot;&gt;CCAFS SLC-40 - Failure&lt;/div&gt;`)[0];\n                popup_78e4ef7a135b023bd0e8c73708dcdc4d.setContent(html_45300cbb8ca24349bd60237137565208);\n            \n        \n\n        marker_7c52cdae6b5544ab1269cf9fe64c5dd5.bindPopup(popup_78e4ef7a135b023bd0e8c73708dcdc4d)\n        ;\n\n        \n    \n    \n                marker_7c52cdae6b5544ab1269cf9fe64c5dd5.setIcon(icon_d0e179906a27c3eeb0fe6731deb72ce7);\n            \n&lt;/script&gt;\n&lt;/html&gt;\" style=\"position:absolute;width:100%;height:100%;left:0;top:0;border:none !important;\" allowfullscreen webkitallowfullscreen mozallowfullscreen></iframe></div></div>"
          },
          "metadata": {}
        }
      ],
      "execution_count": 16
    },
    {
      "cell_type": "markdown",
      "source": "Next, let's try to enhance the map by adding the launch outcomes for each site, and see which sites have high success rates.\nRecall that data frame spacex_df has detailed launch records, and the `class` column indicates if this launch was successful or not\n",
      "metadata": {}
    },
    {
      "cell_type": "code",
      "source": "spacex_df.tail(10)",
      "metadata": {
        "trusted": true
      },
      "outputs": [
        {
          "execution_count": 17,
          "output_type": "execute_result",
          "data": {
            "text/plain": "     Launch Site        Lat       Long  class\n46    KSC LC-39A  28.573255 -80.646895      1\n47    KSC LC-39A  28.573255 -80.646895      1\n48    KSC LC-39A  28.573255 -80.646895      1\n49  CCAFS SLC-40  28.563197 -80.576820      1\n50  CCAFS SLC-40  28.563197 -80.576820      1\n51  CCAFS SLC-40  28.563197 -80.576820      0\n52  CCAFS SLC-40  28.563197 -80.576820      0\n53  CCAFS SLC-40  28.563197 -80.576820      0\n54  CCAFS SLC-40  28.563197 -80.576820      1\n55  CCAFS SLC-40  28.563197 -80.576820      0",
            "text/html": "<div>\n<style scoped>\n    .dataframe tbody tr th:only-of-type {\n        vertical-align: middle;\n    }\n\n    .dataframe tbody tr th {\n        vertical-align: top;\n    }\n\n    .dataframe thead th {\n        text-align: right;\n    }\n</style>\n<table border=\"1\" class=\"dataframe\">\n  <thead>\n    <tr style=\"text-align: right;\">\n      <th></th>\n      <th>Launch Site</th>\n      <th>Lat</th>\n      <th>Long</th>\n      <th>class</th>\n    </tr>\n  </thead>\n  <tbody>\n    <tr>\n      <th>46</th>\n      <td>KSC LC-39A</td>\n      <td>28.573255</td>\n      <td>-80.646895</td>\n      <td>1</td>\n    </tr>\n    <tr>\n      <th>47</th>\n      <td>KSC LC-39A</td>\n      <td>28.573255</td>\n      <td>-80.646895</td>\n      <td>1</td>\n    </tr>\n    <tr>\n      <th>48</th>\n      <td>KSC LC-39A</td>\n      <td>28.573255</td>\n      <td>-80.646895</td>\n      <td>1</td>\n    </tr>\n    <tr>\n      <th>49</th>\n      <td>CCAFS SLC-40</td>\n      <td>28.563197</td>\n      <td>-80.576820</td>\n      <td>1</td>\n    </tr>\n    <tr>\n      <th>50</th>\n      <td>CCAFS SLC-40</td>\n      <td>28.563197</td>\n      <td>-80.576820</td>\n      <td>1</td>\n    </tr>\n    <tr>\n      <th>51</th>\n      <td>CCAFS SLC-40</td>\n      <td>28.563197</td>\n      <td>-80.576820</td>\n      <td>0</td>\n    </tr>\n    <tr>\n      <th>52</th>\n      <td>CCAFS SLC-40</td>\n      <td>28.563197</td>\n      <td>-80.576820</td>\n      <td>0</td>\n    </tr>\n    <tr>\n      <th>53</th>\n      <td>CCAFS SLC-40</td>\n      <td>28.563197</td>\n      <td>-80.576820</td>\n      <td>0</td>\n    </tr>\n    <tr>\n      <th>54</th>\n      <td>CCAFS SLC-40</td>\n      <td>28.563197</td>\n      <td>-80.576820</td>\n      <td>1</td>\n    </tr>\n    <tr>\n      <th>55</th>\n      <td>CCAFS SLC-40</td>\n      <td>28.563197</td>\n      <td>-80.576820</td>\n      <td>0</td>\n    </tr>\n  </tbody>\n</table>\n</div>"
          },
          "metadata": {}
        }
      ],
      "execution_count": 17
    },
    {
      "cell_type": "markdown",
      "source": "Next, let's create markers for all launch records.\nIf a launch was successful `(class=1)`, then we use a green marker and if a launch was failed, we use a red marker `(class=0)`\n",
      "metadata": {}
    },
    {
      "cell_type": "markdown",
      "source": "Note that a launch only happens in one of the four launch sites, which means many launch records will have the exact same coordinate. Marker clusters can be a good way to simplify a map containing many markers having the same coordinate.\n",
      "metadata": {}
    },
    {
      "cell_type": "markdown",
      "source": "Let's first create a `MarkerCluster` object\n",
      "metadata": {}
    },
    {
      "cell_type": "code",
      "source": "marker_cluster = MarkerCluster()\n",
      "metadata": {
        "trusted": true
      },
      "outputs": [],
      "execution_count": 18
    },
    {
      "cell_type": "markdown",
      "source": "*TODO:* Create a new column in `spacex_df` dataframe called `marker_color` to store the marker colors based on the `class` value\n",
      "metadata": {}
    },
    {
      "cell_type": "code",
      "source": "\n# Define a function to choose marker color based on class\ndef get_marker_color(launch_class):\n    if launch_class == 1:\n        return 'green'  # success\n    else:\n        return 'red'    # failure\n\n# Apply the function to create a new column 'marker_color'\nlaunches_df['marker_color'] = launches_df['Class'].apply(get_marker_color)\n\n# Check the result\nlaunches_df\n",
      "metadata": {
        "trusted": true
      },
      "outputs": [
        {
          "execution_count": 20,
          "output_type": "execute_result",
          "data": {
            "text/plain": "    Launch Site      Lat      Long  Class marker_color\n0   CCAFS LC-40  28.5623  -80.5774      1        green\n1   VAFB SLC-4E  34.6328 -120.6108      0          red\n2    KSC LC-39A  28.6084  -80.6043      1        green\n3  CCAFS SLC-40  28.5900  -80.6043      0          red",
            "text/html": "<div>\n<style scoped>\n    .dataframe tbody tr th:only-of-type {\n        vertical-align: middle;\n    }\n\n    .dataframe tbody tr th {\n        vertical-align: top;\n    }\n\n    .dataframe thead th {\n        text-align: right;\n    }\n</style>\n<table border=\"1\" class=\"dataframe\">\n  <thead>\n    <tr style=\"text-align: right;\">\n      <th></th>\n      <th>Launch Site</th>\n      <th>Lat</th>\n      <th>Long</th>\n      <th>Class</th>\n      <th>marker_color</th>\n    </tr>\n  </thead>\n  <tbody>\n    <tr>\n      <th>0</th>\n      <td>CCAFS LC-40</td>\n      <td>28.5623</td>\n      <td>-80.5774</td>\n      <td>1</td>\n      <td>green</td>\n    </tr>\n    <tr>\n      <th>1</th>\n      <td>VAFB SLC-4E</td>\n      <td>34.6328</td>\n      <td>-120.6108</td>\n      <td>0</td>\n      <td>red</td>\n    </tr>\n    <tr>\n      <th>2</th>\n      <td>KSC LC-39A</td>\n      <td>28.6084</td>\n      <td>-80.6043</td>\n      <td>1</td>\n      <td>green</td>\n    </tr>\n    <tr>\n      <th>3</th>\n      <td>CCAFS SLC-40</td>\n      <td>28.5900</td>\n      <td>-80.6043</td>\n      <td>0</td>\n      <td>red</td>\n    </tr>\n  </tbody>\n</table>\n</div>"
          },
          "metadata": {}
        }
      ],
      "execution_count": 20
    },
    {
      "cell_type": "markdown",
      "source": "*TODO:* For each launch result in `spacex_df` data frame, add a `folium.Marker` to `marker_cluster`\n",
      "metadata": {}
    },
    {
      "cell_type": "code",
      "source": "# Add marker_cluster to current site_map\nsite_map.add_child(marker_cluster)\n\n# for each row in spacex_df data frame\n# create a Marker object with its coordinate\n# and customize the Marker's icon property to indicate if this launch was successed or failed, \n# e.g., icon=folium.Icon(color='white', icon_color=row['marker_color']\nfor index, record in spacex_df.iterrows():\n    # TODO: Create and add a Marker cluster to the site map\n    # marker = folium.Marker(...)\n    marker_cluster.add_child(marker)\n\nsite_map",
      "metadata": {
        "trusted": true
      },
      "outputs": [
        {
          "execution_count": 21,
          "output_type": "execute_result",
          "data": {
            "text/plain": "<folium.folium.Map at 0x6c9bd78>",
            "text/html": "<div style=\"width:100%;\"><div style=\"position:relative;width:100%;height:0;padding-bottom:60%;\"><span style=\"color:#565656\">Make this Notebook Trusted to load map: File -> Trust Notebook</span><iframe srcdoc=\"&lt;!DOCTYPE html&gt;\n&lt;html&gt;\n&lt;head&gt;\n    \n    &lt;meta http-equiv=&quot;content-type&quot; content=&quot;text/html; charset=UTF-8&quot; /&gt;\n    &lt;script src=&quot;https://cdn.jsdelivr.net/npm/leaflet@1.9.3/dist/leaflet.js&quot;&gt;&lt;/script&gt;\n    &lt;script src=&quot;https://code.jquery.com/jquery-3.7.1.min.js&quot;&gt;&lt;/script&gt;\n    &lt;script src=&quot;https://cdn.jsdelivr.net/npm/bootstrap@5.2.2/dist/js/bootstrap.bundle.min.js&quot;&gt;&lt;/script&gt;\n    &lt;script src=&quot;https://cdnjs.cloudflare.com/ajax/libs/Leaflet.awesome-markers/2.0.2/leaflet.awesome-markers.js&quot;&gt;&lt;/script&gt;\n    &lt;link rel=&quot;stylesheet&quot; href=&quot;https://cdn.jsdelivr.net/npm/leaflet@1.9.3/dist/leaflet.css&quot;/&gt;\n    &lt;link rel=&quot;stylesheet&quot; href=&quot;https://cdn.jsdelivr.net/npm/bootstrap@5.2.2/dist/css/bootstrap.min.css&quot;/&gt;\n    &lt;link rel=&quot;stylesheet&quot; href=&quot;https://netdna.bootstrapcdn.com/bootstrap/3.0.0/css/bootstrap-glyphicons.css&quot;/&gt;\n    &lt;link rel=&quot;stylesheet&quot; href=&quot;https://cdn.jsdelivr.net/npm/@fortawesome/fontawesome-free@6.2.0/css/all.min.css&quot;/&gt;\n    &lt;link rel=&quot;stylesheet&quot; href=&quot;https://cdnjs.cloudflare.com/ajax/libs/Leaflet.awesome-markers/2.0.2/leaflet.awesome-markers.css&quot;/&gt;\n    &lt;link rel=&quot;stylesheet&quot; href=&quot;https://cdn.jsdelivr.net/gh/python-visualization/folium/folium/templates/leaflet.awesome.rotate.min.css&quot;/&gt;\n    \n            &lt;meta name=&quot;viewport&quot; content=&quot;width=device-width,\n                initial-scale=1.0, maximum-scale=1.0, user-scalable=no&quot; /&gt;\n            &lt;style&gt;\n                #map_4a3849e84fba5902b6e0a3d464a7d2d5 {\n                    position: relative;\n                    width: 100.0%;\n                    height: 100.0%;\n                    left: 0.0%;\n                    top: 0.0%;\n                }\n                .leaflet-container { font-size: 1rem; }\n            &lt;/style&gt;\n\n            &lt;style&gt;html, body {\n                width: 100%;\n                height: 100%;\n                margin: 0;\n                padding: 0;\n            }\n            &lt;/style&gt;\n\n            &lt;style&gt;#map {\n                position:absolute;\n                top:0;\n                bottom:0;\n                right:0;\n                left:0;\n                }\n            &lt;/style&gt;\n\n            &lt;script&gt;\n                L_NO_TOUCH = false;\n                L_DISABLE_3D = false;\n            &lt;/script&gt;\n\n        \n    &lt;script src=&quot;https://cdnjs.cloudflare.com/ajax/libs/leaflet.markercluster/1.1.0/leaflet.markercluster.js&quot;&gt;&lt;/script&gt;\n    &lt;link rel=&quot;stylesheet&quot; href=&quot;https://cdnjs.cloudflare.com/ajax/libs/leaflet.markercluster/1.1.0/MarkerCluster.css&quot;/&gt;\n    &lt;link rel=&quot;stylesheet&quot; href=&quot;https://cdnjs.cloudflare.com/ajax/libs/leaflet.markercluster/1.1.0/MarkerCluster.Default.css&quot;/&gt;\n&lt;/head&gt;\n&lt;body&gt;\n    \n    \n            &lt;div class=&quot;folium-map&quot; id=&quot;map_4a3849e84fba5902b6e0a3d464a7d2d5&quot; &gt;&lt;/div&gt;\n        \n&lt;/body&gt;\n&lt;script&gt;\n    \n    \n            var map_4a3849e84fba5902b6e0a3d464a7d2d5 = L.map(\n                &quot;map_4a3849e84fba5902b6e0a3d464a7d2d5&quot;,\n                {\n                    center: [29.559684888503615, -95.0830971930759],\n                    crs: L.CRS.EPSG3857,\n                    ...{\n  &quot;zoom&quot;: 5,\n  &quot;zoomControl&quot;: true,\n  &quot;preferCanvas&quot;: false,\n}\n\n                }\n            );\n\n            \n\n        \n    \n            var tile_layer_c48109e6f813917af188f17659bf7423 = L.tileLayer(\n                &quot;https://tile.openstreetmap.org/{z}/{x}/{y}.png&quot;,\n                {\n  &quot;minZoom&quot;: 0,\n  &quot;maxZoom&quot;: 19,\n  &quot;maxNativeZoom&quot;: 19,\n  &quot;noWrap&quot;: false,\n  &quot;attribution&quot;: &quot;\\u0026copy; \\u003ca href=\\&quot;https://www.openstreetmap.org/copyright\\&quot;\\u003eOpenStreetMap\\u003c/a\\u003e contributors&quot;,\n  &quot;subdomains&quot;: &quot;abc&quot;,\n  &quot;detectRetina&quot;: false,\n  &quot;tms&quot;: false,\n  &quot;opacity&quot;: 1,\n}\n\n            );\n        \n    \n            tile_layer_c48109e6f813917af188f17659bf7423.addTo(map_4a3849e84fba5902b6e0a3d464a7d2d5);\n        \n    \n            var marker_cluster_191874dfc33676e64d7e65fa5cc62dc1 = L.markerClusterGroup(\n                {\n}\n            );\n        \n    \n            var marker_d1afb01d26f2640e94d8c7df8e746ce2 = L.marker(\n                [29.559684888503615, -95.0830971930759],\n                {\n}\n            ).addTo(marker_cluster_191874dfc33676e64d7e65fa5cc62dc1);\n        \n    \n            var div_icon_1a284ee63c405385d8ec2a1054be85aa = L.divIcon({\n  &quot;html&quot;: &quot;\\u003cdiv style=\\&quot;font-size: 12; color:#d35400;\\&quot;\\u003e\\u003cb\\u003eNASA JSC\\u003c/b\\u003e\\u003c/div\\u003e&quot;,\n  &quot;iconSize&quot;: [20, 20],\n  &quot;iconAnchor&quot;: [0, 0],\n  &quot;className&quot;: &quot;empty&quot;,\n});\n        \n    \n                marker_d1afb01d26f2640e94d8c7df8e746ce2.setIcon(div_icon_1a284ee63c405385d8ec2a1054be85aa);\n            \n    \n                marker_d1afb01d26f2640e94d8c7df8e746ce2.setIcon(div_icon_1a284ee63c405385d8ec2a1054be85aa);\n            \n    \n            marker_cluster_191874dfc33676e64d7e65fa5cc62dc1.addTo(map_4a3849e84fba5902b6e0a3d464a7d2d5);\n        \n&lt;/script&gt;\n&lt;/html&gt;\" style=\"position:absolute;width:100%;height:100%;left:0;top:0;border:none !important;\" allowfullscreen webkitallowfullscreen mozallowfullscreen></iframe></div></div>"
          },
          "metadata": {}
        }
      ],
      "execution_count": 21
    },
    {
      "cell_type": "markdown",
      "source": "Your updated map may look like the following screenshots:\n",
      "metadata": {}
    },
    {
      "cell_type": "markdown",
      "source": "<center>\n    <img src=\"https://cf-courses-data.s3.us.cloud-object-storage.appdomain.cloud/IBM-DS0321EN-SkillsNetwork/labs/module_3/images/launch_site_marker_cluster.png\">\n</center>\n",
      "metadata": {}
    },
    {
      "cell_type": "markdown",
      "source": "<center>\n    <img src=\"https://cf-courses-data.s3.us.cloud-object-storage.appdomain.cloud/IBM-DS0321EN-SkillsNetwork/labs/module_3/images/launch_site_marker_cluster_zoomed.png\">\n</center>\n",
      "metadata": {}
    },
    {
      "cell_type": "markdown",
      "source": "From the color-labeled markers in marker clusters, you should be able to easily identify which launch sites have relatively high success rates.\n",
      "metadata": {}
    },
    {
      "cell_type": "code",
      "source": "# TASK 3: Calculate the distances between a launch site to its proximities\nimport pandas as pd\nimport math\n\n# Sample launch sites\nlaunch_sites_df = pd.DataFrame({\n    'Launch Site': ['CCAFS LC-40', 'VAFB SLC-4E'],\n    'Lat': [28.5623, 34.6328],\n    'Long': [-80.5774, -120.6108]\n})\n\n# Sample nearby points (e.g., coastline)\nproximities_df = pd.DataFrame({\n    'Place': ['Coastline A', 'Coastline B'],\n    'Lat': [28.5625, 34.6320],\n    'Long': [-80.5670, -120.6000]\n})\n\n# Haversine formula to calculate distance between two points\ndef haversine(lat1, lon1, lat2, lon2):\n    R = 6371  # Earth radius in km\n    phi1 = math.radians(lat1)\n    phi2 = math.radians(lat2)\n    delta_phi = math.radians(lat2 - lat1)\n    delta_lambda = math.radians(lon2 - lon1)\n    a = math.sin(delta_phi/2)**2 + math.cos(phi1)*math.cos(phi2)*math.sin(delta_lambda/2)**2\n    c = 2 * math.atan2(math.sqrt(a), math.sqrt(1-a))\n    return R * c\n\n# Example: calculate distance from each launch site to the first proximity\nlaunch_sites_df['Distance_to_Coastline_A_km'] = launch_sites_df.apply(\n    lambda row: haversine(row['Lat'], row['Long'], proximities_df.loc[0, 'Lat'], proximities_df.loc[0, 'Long']),\n    axis=1\n)\n\nlaunch_sites_df\n\n",
      "metadata": {
        "trusted": true
      },
      "outputs": [
        {
          "execution_count": 27,
          "output_type": "execute_result",
          "data": {
            "text/plain": "   Launch Site      Lat      Long  Distance_to_Coastline_A_km\n0  CCAFS LC-40  28.5623  -80.5774                    1.015930\n1  VAFB SLC-4E  34.6328 -120.6108                 3826.784978",
            "text/html": "<div>\n<style scoped>\n    .dataframe tbody tr th:only-of-type {\n        vertical-align: middle;\n    }\n\n    .dataframe tbody tr th {\n        vertical-align: top;\n    }\n\n    .dataframe thead th {\n        text-align: right;\n    }\n</style>\n<table border=\"1\" class=\"dataframe\">\n  <thead>\n    <tr style=\"text-align: right;\">\n      <th></th>\n      <th>Launch Site</th>\n      <th>Lat</th>\n      <th>Long</th>\n      <th>Distance_to_Coastline_A_km</th>\n    </tr>\n  </thead>\n  <tbody>\n    <tr>\n      <th>0</th>\n      <td>CCAFS LC-40</td>\n      <td>28.5623</td>\n      <td>-80.5774</td>\n      <td>1.015930</td>\n    </tr>\n    <tr>\n      <th>1</th>\n      <td>VAFB SLC-4E</td>\n      <td>34.6328</td>\n      <td>-120.6108</td>\n      <td>3826.784978</td>\n    </tr>\n  </tbody>\n</table>\n</div>"
          },
          "metadata": {}
        }
      ],
      "execution_count": 27
    },
    {
      "cell_type": "markdown",
      "source": "Next, we need to explore and analyze the proximities of launch sites.\n",
      "metadata": {}
    },
    {
      "cell_type": "markdown",
      "source": "Let's first add a `MousePosition` on the map to get coordinate for a mouse over a point on the map. As such, while you are exploring the map, you can easily find the coordinates of any points of interests (such as railway)\n",
      "metadata": {}
    },
    {
      "cell_type": "code",
      "source": "# Add Mouse Position to get the coordinate (Lat, Long) for a mouse over on the map\nformatter = \"function(num) {return L.Util.formatNum(num, 5);};\"\nmouse_position = MousePosition(\n    position='topright',\n    separator=' Long: ',\n    empty_string='NaN',\n    lng_first=False,\n    num_digits=20,\n    prefix='Lat:',\n    lat_formatter=formatter,\n    lng_formatter=formatter,\n)\n\nsite_map.add_child(mouse_position)\nsite_map",
      "metadata": {
        "trusted": true
      },
      "outputs": [
        {
          "execution_count": 28,
          "output_type": "execute_result",
          "data": {
            "text/plain": "<folium.folium.Map at 0x6c9bd78>",
            "text/html": "<div style=\"width:100%;\"><div style=\"position:relative;width:100%;height:0;padding-bottom:60%;\"><span style=\"color:#565656\">Make this Notebook Trusted to load map: File -> Trust Notebook</span><iframe srcdoc=\"&lt;!DOCTYPE html&gt;\n&lt;html&gt;\n&lt;head&gt;\n    \n    &lt;meta http-equiv=&quot;content-type&quot; content=&quot;text/html; charset=UTF-8&quot; /&gt;\n    &lt;script src=&quot;https://cdn.jsdelivr.net/npm/leaflet@1.9.3/dist/leaflet.js&quot;&gt;&lt;/script&gt;\n    &lt;script src=&quot;https://code.jquery.com/jquery-3.7.1.min.js&quot;&gt;&lt;/script&gt;\n    &lt;script src=&quot;https://cdn.jsdelivr.net/npm/bootstrap@5.2.2/dist/js/bootstrap.bundle.min.js&quot;&gt;&lt;/script&gt;\n    &lt;script src=&quot;https://cdnjs.cloudflare.com/ajax/libs/Leaflet.awesome-markers/2.0.2/leaflet.awesome-markers.js&quot;&gt;&lt;/script&gt;\n    &lt;link rel=&quot;stylesheet&quot; href=&quot;https://cdn.jsdelivr.net/npm/leaflet@1.9.3/dist/leaflet.css&quot;/&gt;\n    &lt;link rel=&quot;stylesheet&quot; href=&quot;https://cdn.jsdelivr.net/npm/bootstrap@5.2.2/dist/css/bootstrap.min.css&quot;/&gt;\n    &lt;link rel=&quot;stylesheet&quot; href=&quot;https://netdna.bootstrapcdn.com/bootstrap/3.0.0/css/bootstrap-glyphicons.css&quot;/&gt;\n    &lt;link rel=&quot;stylesheet&quot; href=&quot;https://cdn.jsdelivr.net/npm/@fortawesome/fontawesome-free@6.2.0/css/all.min.css&quot;/&gt;\n    &lt;link rel=&quot;stylesheet&quot; href=&quot;https://cdnjs.cloudflare.com/ajax/libs/Leaflet.awesome-markers/2.0.2/leaflet.awesome-markers.css&quot;/&gt;\n    &lt;link rel=&quot;stylesheet&quot; href=&quot;https://cdn.jsdelivr.net/gh/python-visualization/folium/folium/templates/leaflet.awesome.rotate.min.css&quot;/&gt;\n    \n            &lt;meta name=&quot;viewport&quot; content=&quot;width=device-width,\n                initial-scale=1.0, maximum-scale=1.0, user-scalable=no&quot; /&gt;\n            &lt;style&gt;\n                #map_4a3849e84fba5902b6e0a3d464a7d2d5 {\n                    position: relative;\n                    width: 100.0%;\n                    height: 100.0%;\n                    left: 0.0%;\n                    top: 0.0%;\n                }\n                .leaflet-container { font-size: 1rem; }\n            &lt;/style&gt;\n\n            &lt;style&gt;html, body {\n                width: 100%;\n                height: 100%;\n                margin: 0;\n                padding: 0;\n            }\n            &lt;/style&gt;\n\n            &lt;style&gt;#map {\n                position:absolute;\n                top:0;\n                bottom:0;\n                right:0;\n                left:0;\n                }\n            &lt;/style&gt;\n\n            &lt;script&gt;\n                L_NO_TOUCH = false;\n                L_DISABLE_3D = false;\n            &lt;/script&gt;\n\n        \n    &lt;script src=&quot;https://cdnjs.cloudflare.com/ajax/libs/leaflet.markercluster/1.1.0/leaflet.markercluster.js&quot;&gt;&lt;/script&gt;\n    &lt;link rel=&quot;stylesheet&quot; href=&quot;https://cdnjs.cloudflare.com/ajax/libs/leaflet.markercluster/1.1.0/MarkerCluster.css&quot;/&gt;\n    &lt;link rel=&quot;stylesheet&quot; href=&quot;https://cdnjs.cloudflare.com/ajax/libs/leaflet.markercluster/1.1.0/MarkerCluster.Default.css&quot;/&gt;\n    &lt;script src=&quot;https://cdn.jsdelivr.net/gh/ardhi/Leaflet.MousePosition/src/L.Control.MousePosition.min.js&quot;&gt;&lt;/script&gt;\n    &lt;link rel=&quot;stylesheet&quot; href=&quot;https://cdn.jsdelivr.net/gh/ardhi/Leaflet.MousePosition/src/L.Control.MousePosition.min.css&quot;/&gt;\n&lt;/head&gt;\n&lt;body&gt;\n    \n    \n            &lt;div class=&quot;folium-map&quot; id=&quot;map_4a3849e84fba5902b6e0a3d464a7d2d5&quot; &gt;&lt;/div&gt;\n        \n&lt;/body&gt;\n&lt;script&gt;\n    \n    \n            var map_4a3849e84fba5902b6e0a3d464a7d2d5 = L.map(\n                &quot;map_4a3849e84fba5902b6e0a3d464a7d2d5&quot;,\n                {\n                    center: [29.559684888503615, -95.0830971930759],\n                    crs: L.CRS.EPSG3857,\n                    ...{\n  &quot;zoom&quot;: 5,\n  &quot;zoomControl&quot;: true,\n  &quot;preferCanvas&quot;: false,\n}\n\n                }\n            );\n\n            \n\n        \n    \n            var tile_layer_c48109e6f813917af188f17659bf7423 = L.tileLayer(\n                &quot;https://tile.openstreetmap.org/{z}/{x}/{y}.png&quot;,\n                {\n  &quot;minZoom&quot;: 0,\n  &quot;maxZoom&quot;: 19,\n  &quot;maxNativeZoom&quot;: 19,\n  &quot;noWrap&quot;: false,\n  &quot;attribution&quot;: &quot;\\u0026copy; \\u003ca href=\\&quot;https://www.openstreetmap.org/copyright\\&quot;\\u003eOpenStreetMap\\u003c/a\\u003e contributors&quot;,\n  &quot;subdomains&quot;: &quot;abc&quot;,\n  &quot;detectRetina&quot;: false,\n  &quot;tms&quot;: false,\n  &quot;opacity&quot;: 1,\n}\n\n            );\n        \n    \n            tile_layer_c48109e6f813917af188f17659bf7423.addTo(map_4a3849e84fba5902b6e0a3d464a7d2d5);\n        \n    \n            var marker_cluster_191874dfc33676e64d7e65fa5cc62dc1 = L.markerClusterGroup(\n                {\n}\n            );\n        \n    \n            var marker_d1afb01d26f2640e94d8c7df8e746ce2 = L.marker(\n                [29.559684888503615, -95.0830971930759],\n                {\n}\n            ).addTo(marker_cluster_191874dfc33676e64d7e65fa5cc62dc1);\n        \n    \n            var div_icon_1a284ee63c405385d8ec2a1054be85aa = L.divIcon({\n  &quot;html&quot;: &quot;\\u003cdiv style=\\&quot;font-size: 12; color:#d35400;\\&quot;\\u003e\\u003cb\\u003eNASA JSC\\u003c/b\\u003e\\u003c/div\\u003e&quot;,\n  &quot;iconSize&quot;: [20, 20],\n  &quot;iconAnchor&quot;: [0, 0],\n  &quot;className&quot;: &quot;empty&quot;,\n});\n        \n    \n                marker_d1afb01d26f2640e94d8c7df8e746ce2.setIcon(div_icon_1a284ee63c405385d8ec2a1054be85aa);\n            \n    \n                marker_d1afb01d26f2640e94d8c7df8e746ce2.setIcon(div_icon_1a284ee63c405385d8ec2a1054be85aa);\n            \n    \n            marker_cluster_191874dfc33676e64d7e65fa5cc62dc1.addTo(map_4a3849e84fba5902b6e0a3d464a7d2d5);\n        \n    \n            tile_layer_c48109e6f813917af188f17659bf7423.addTo(map_4a3849e84fba5902b6e0a3d464a7d2d5);\n        \n    \n                marker_d1afb01d26f2640e94d8c7df8e746ce2.setIcon(div_icon_1a284ee63c405385d8ec2a1054be85aa);\n            \n    \n            marker_cluster_191874dfc33676e64d7e65fa5cc62dc1.addTo(map_4a3849e84fba5902b6e0a3d464a7d2d5);\n        \n    \n            var mouse_position_0e1df372e1135ed024555b023f817d58 = new L.Control.MousePosition(\n                {\n  &quot;position&quot;: &quot;topright&quot;,\n  &quot;separator&quot;: &quot; Long: &quot;,\n  &quot;emptyString&quot;: &quot;NaN&quot;,\n  &quot;lngFirst&quot;: false,\n  &quot;numDigits&quot;: 20,\n  &quot;prefix&quot;: &quot;Lat:&quot;,\n}\n            );\n            mouse_position_0e1df372e1135ed024555b023f817d58.options[&quot;latFormatter&quot;] =\n                function(num) {return L.Util.formatNum(num, 5);};;\n            mouse_position_0e1df372e1135ed024555b023f817d58.options[&quot;lngFormatter&quot;] =\n                function(num) {return L.Util.formatNum(num, 5);};;\n            map_4a3849e84fba5902b6e0a3d464a7d2d5.addControl(mouse_position_0e1df372e1135ed024555b023f817d58);\n        \n&lt;/script&gt;\n&lt;/html&gt;\" style=\"position:absolute;width:100%;height:100%;left:0;top:0;border:none !important;\" allowfullscreen webkitallowfullscreen mozallowfullscreen></iframe></div></div>"
          },
          "metadata": {}
        }
      ],
      "execution_count": 28
    },
    {
      "cell_type": "markdown",
      "source": "Now zoom in to a launch site and explore its proximity to see if you can easily find any railway, highway, coastline, etc. Move your mouse to these points and mark down their coordinates (shown on the top-left) in order to the distance to the launch site.\n",
      "metadata": {}
    },
    {
      "cell_type": "markdown",
      "source": "Now zoom in to a launch site and explore its proximity to see if you can easily find any railway, highway, coastline, etc. Move your mouse to these points and mark down their coordinates (shown on the top-left) in order to the distance to the launch site.\n",
      "metadata": {}
    },
    {
      "cell_type": "code",
      "source": "from math import sin, cos, sqrt, atan2, radians\n\ndef calculate_distance(lat1, lon1, lat2, lon2):\n    # approximate radius of earth in km\n    R = 6373.0\n\n    lat1 = radians(lat1)\n    lon1 = radians(lon1)\n    lat2 = radians(lat2)\n    lon2 = radians(lon2)\n\n    dlon = lon2 - lon1\n    dlat = lat2 - lat1\n\n    a = sin(dlat / 2)**2 + cos(lat1) * cos(lat2) * sin(dlon / 2)**2\n    c = 2 * atan2(sqrt(a), sqrt(1 - a))\n\n    distance = R * c\n    return distance",
      "metadata": {
        "trusted": true
      },
      "outputs": [],
      "execution_count": 30
    },
    {
      "cell_type": "markdown",
      "source": "*TODO:* Mark down a point on the closest coastline using MousePosition and calculate the distance between the coastline point and the launch site.\n",
      "metadata": {}
    },
    {
      "cell_type": "code",
      "source": "# find coordinate of the closet coastline\n# e.g.,: Lat: 28.56367  Lon: -80.57163\n# distance_coastline = calculate_distance(launch_site_lat, launch_site_lon, coastline_lat, coastline_lon)\nimport math\n\n# Haversine formula to calculate distance between two coordinates\ndef calculate_distance(lat1, lon1, lat2, lon2):\n    R = 6371  # Earth radius in km\n    phi1 = math.radians(lat1)\n    phi2 = math.radians(lat2)\n    delta_phi = math.radians(lat2 - lat1)\n    delta_lambda = math.radians(lon2 - lon1)\n    \n    a = math.sin(delta_phi/2)**2 + math.cos(phi1)*math.cos(phi2)*math.sin(delta_lambda/2)**2\n    c = 2 * math.atan2(math.sqrt(a), math.sqrt(1-a))\n    return R * c  # distance in km\n\n# Example coordinates\nlaunch_site_lat = 28.5623\nlaunch_site_lon = -80.5774\ncoastline_lat = 28.56367\ncoastline_lon = -80.57163\n\n# Calculate distance to the closest coastline\ndistance_coastline = calculate_distance(\n    launch_site_lat, launch_site_lon, coastline_lat, coastline_lon\n)\n\nprint(f\"Distance from launch site to coastline: {distance_coastline:.2f} km\")\n",
      "metadata": {
        "trusted": true
      },
      "outputs": [
        {
          "name": "stdout",
          "text": "Distance from launch site to coastline: 0.58 km\n",
          "output_type": "stream"
        }
      ],
      "execution_count": 31
    },
    {
      "cell_type": "code",
      "source": "# Create and add a folium.Marker on your selected closest coastline point on the map\n# Display the distance between coastline point and launch site using the icon property \n# for example\n# distance_marker = folium.Marker(\n#    coordinate,\n#    icon=DivIcon(\n#        icon_size=(20,20),\n#        icon_anchor=(0,0),\n#        html='<div style=\"font-size: 12; color:#d35400;\"><b>%s</b></div>' % \"{:10.2f} KM\".format(distance),\n#        )\n#    )\nimport folium\nfrom folium.features import DivIcon\n\n# Launch site coordinate\nlaunch_site_coord = [28.5623, -80.5774]\n\n# Closest coastline coordinate\ncoastline_coord = [28.56367, -80.57163]\n\n# Calculate distance using the Haversine formula\ndef calculate_distance(lat1, lon1, lat2, lon2):\n    import math\n    R = 6371  # Earth radius in km\n    phi1 = math.radians(lat1)\n    phi2 = math.radians(lat2)\n    delta_phi = math.radians(lat2 - lat1)\n    delta_lambda = math.radians(lon2 - lon1)\n    a = math.sin(delta_phi/2)**2 + math.cos(phi1)*math.cos(phi2)*math.sin(delta_lambda/2)**2\n    c = 2 * math.atan2(math.sqrt(a), math.sqrt(1-a))\n    return R * c\n\ndistance = calculate_distance(\n    launch_site_coord[0], launch_site_coord[1],\n    coastline_coord[0], coastline_coord[1]\n)\n\n# Create a base map\nmap_task3 = folium.Map(location=launch_site_coord, zoom_start=10)\n\n# Add launch site marker\nfolium.Marker(\n    location=launch_site_coord,\n    popup=\"Launch Site\",\n    icon=folium.Icon(color='red', icon='rocket', prefix='fa')\n).add_to(map_task3)\n\n# Add coastline marker\nfolium.Marker(\n    location=coastline_coord,\n    popup=\"Closest Coastline\",\n    icon=folium.Icon(color='blue', icon='info-sign')\n).add_to(map_task3)\n\n# Add distance as a DivIcon\ndistance_marker = folium.Marker(\n    location=coastline_coord,\n    icon=DivIcon(\n        icon_size=(150,36),\n        icon_anchor=(0,0),\n        html='<div style=\"font-size: 12px; color:#d35400;\"><b>%s</b></div>' \n             % \"{:10.2f} KM\".format(distance),\n    )\n)\ndistance_marker.add_to(map_task3)\n\n# Display map\nmap_task3\n",
      "metadata": {
        "trusted": true
      },
      "outputs": [
        {
          "execution_count": 32,
          "output_type": "execute_result",
          "data": {
            "text/plain": "<folium.folium.Map at 0x6c51260>",
            "text/html": "<div style=\"width:100%;\"><div style=\"position:relative;width:100%;height:0;padding-bottom:60%;\"><span style=\"color:#565656\">Make this Notebook Trusted to load map: File -> Trust Notebook</span><iframe srcdoc=\"&lt;!DOCTYPE html&gt;\n&lt;html&gt;\n&lt;head&gt;\n    \n    &lt;meta http-equiv=&quot;content-type&quot; content=&quot;text/html; charset=UTF-8&quot; /&gt;\n    &lt;script src=&quot;https://cdn.jsdelivr.net/npm/leaflet@1.9.3/dist/leaflet.js&quot;&gt;&lt;/script&gt;\n    &lt;script src=&quot;https://code.jquery.com/jquery-3.7.1.min.js&quot;&gt;&lt;/script&gt;\n    &lt;script src=&quot;https://cdn.jsdelivr.net/npm/bootstrap@5.2.2/dist/js/bootstrap.bundle.min.js&quot;&gt;&lt;/script&gt;\n    &lt;script src=&quot;https://cdnjs.cloudflare.com/ajax/libs/Leaflet.awesome-markers/2.0.2/leaflet.awesome-markers.js&quot;&gt;&lt;/script&gt;\n    &lt;link rel=&quot;stylesheet&quot; href=&quot;https://cdn.jsdelivr.net/npm/leaflet@1.9.3/dist/leaflet.css&quot;/&gt;\n    &lt;link rel=&quot;stylesheet&quot; href=&quot;https://cdn.jsdelivr.net/npm/bootstrap@5.2.2/dist/css/bootstrap.min.css&quot;/&gt;\n    &lt;link rel=&quot;stylesheet&quot; href=&quot;https://netdna.bootstrapcdn.com/bootstrap/3.0.0/css/bootstrap-glyphicons.css&quot;/&gt;\n    &lt;link rel=&quot;stylesheet&quot; href=&quot;https://cdn.jsdelivr.net/npm/@fortawesome/fontawesome-free@6.2.0/css/all.min.css&quot;/&gt;\n    &lt;link rel=&quot;stylesheet&quot; href=&quot;https://cdnjs.cloudflare.com/ajax/libs/Leaflet.awesome-markers/2.0.2/leaflet.awesome-markers.css&quot;/&gt;\n    &lt;link rel=&quot;stylesheet&quot; href=&quot;https://cdn.jsdelivr.net/gh/python-visualization/folium/folium/templates/leaflet.awesome.rotate.min.css&quot;/&gt;\n    \n            &lt;meta name=&quot;viewport&quot; content=&quot;width=device-width,\n                initial-scale=1.0, maximum-scale=1.0, user-scalable=no&quot; /&gt;\n            &lt;style&gt;\n                #map_44af6490d616ffb2eb81c1f14fc011f3 {\n                    position: relative;\n                    width: 100.0%;\n                    height: 100.0%;\n                    left: 0.0%;\n                    top: 0.0%;\n                }\n                .leaflet-container { font-size: 1rem; }\n            &lt;/style&gt;\n\n            &lt;style&gt;html, body {\n                width: 100%;\n                height: 100%;\n                margin: 0;\n                padding: 0;\n            }\n            &lt;/style&gt;\n\n            &lt;style&gt;#map {\n                position:absolute;\n                top:0;\n                bottom:0;\n                right:0;\n                left:0;\n                }\n            &lt;/style&gt;\n\n            &lt;script&gt;\n                L_NO_TOUCH = false;\n                L_DISABLE_3D = false;\n            &lt;/script&gt;\n\n        \n&lt;/head&gt;\n&lt;body&gt;\n    \n    \n            &lt;div class=&quot;folium-map&quot; id=&quot;map_44af6490d616ffb2eb81c1f14fc011f3&quot; &gt;&lt;/div&gt;\n        \n&lt;/body&gt;\n&lt;script&gt;\n    \n    \n            var map_44af6490d616ffb2eb81c1f14fc011f3 = L.map(\n                &quot;map_44af6490d616ffb2eb81c1f14fc011f3&quot;,\n                {\n                    center: [28.5623, -80.5774],\n                    crs: L.CRS.EPSG3857,\n                    ...{\n  &quot;zoom&quot;: 10,\n  &quot;zoomControl&quot;: true,\n  &quot;preferCanvas&quot;: false,\n}\n\n                }\n            );\n\n            \n\n        \n    \n            var tile_layer_25afabc83aef9a4c5091235c930b1c88 = L.tileLayer(\n                &quot;https://tile.openstreetmap.org/{z}/{x}/{y}.png&quot;,\n                {\n  &quot;minZoom&quot;: 0,\n  &quot;maxZoom&quot;: 19,\n  &quot;maxNativeZoom&quot;: 19,\n  &quot;noWrap&quot;: false,\n  &quot;attribution&quot;: &quot;\\u0026copy; \\u003ca href=\\&quot;https://www.openstreetmap.org/copyright\\&quot;\\u003eOpenStreetMap\\u003c/a\\u003e contributors&quot;,\n  &quot;subdomains&quot;: &quot;abc&quot;,\n  &quot;detectRetina&quot;: false,\n  &quot;tms&quot;: false,\n  &quot;opacity&quot;: 1,\n}\n\n            );\n        \n    \n            tile_layer_25afabc83aef9a4c5091235c930b1c88.addTo(map_44af6490d616ffb2eb81c1f14fc011f3);\n        \n    \n            var marker_6642ef8bce9635b37854652687e3a179 = L.marker(\n                [28.5623, -80.5774],\n                {\n}\n            ).addTo(map_44af6490d616ffb2eb81c1f14fc011f3);\n        \n    \n            var icon_536c2d0d9a8ffc467d916c939b4d49c1 = L.AwesomeMarkers.icon(\n                {\n  &quot;markerColor&quot;: &quot;red&quot;,\n  &quot;iconColor&quot;: &quot;white&quot;,\n  &quot;icon&quot;: &quot;rocket&quot;,\n  &quot;prefix&quot;: &quot;fa&quot;,\n  &quot;extraClasses&quot;: &quot;fa-rotate-0&quot;,\n}\n            );\n        \n    \n        var popup_45119bab231e1621d878b17062bb9c7c = L.popup({\n  &quot;maxWidth&quot;: &quot;100%&quot;,\n});\n\n        \n            \n                var html_e4585753ceb93555ee34f880b304c3f2 = $(`&lt;div id=&quot;html_e4585753ceb93555ee34f880b304c3f2&quot; style=&quot;width: 100.0%; height: 100.0%;&quot;&gt;Launch Site&lt;/div&gt;`)[0];\n                popup_45119bab231e1621d878b17062bb9c7c.setContent(html_e4585753ceb93555ee34f880b304c3f2);\n            \n        \n\n        marker_6642ef8bce9635b37854652687e3a179.bindPopup(popup_45119bab231e1621d878b17062bb9c7c)\n        ;\n\n        \n    \n    \n                marker_6642ef8bce9635b37854652687e3a179.setIcon(icon_536c2d0d9a8ffc467d916c939b4d49c1);\n            \n    \n            var marker_748abfba4107728877c535adc4847567 = L.marker(\n                [28.56367, -80.57163],\n                {\n}\n            ).addTo(map_44af6490d616ffb2eb81c1f14fc011f3);\n        \n    \n            var icon_ee107a4519d66395c96492760a030a29 = L.AwesomeMarkers.icon(\n                {\n  &quot;markerColor&quot;: &quot;blue&quot;,\n  &quot;iconColor&quot;: &quot;white&quot;,\n  &quot;icon&quot;: &quot;info-sign&quot;,\n  &quot;prefix&quot;: &quot;glyphicon&quot;,\n  &quot;extraClasses&quot;: &quot;fa-rotate-0&quot;,\n}\n            );\n        \n    \n        var popup_d13e8b6cc29fc930fdd74913d6d38994 = L.popup({\n  &quot;maxWidth&quot;: &quot;100%&quot;,\n});\n\n        \n            \n                var html_e6aca08a2ee7519bcef0d24e6c2da9e5 = $(`&lt;div id=&quot;html_e6aca08a2ee7519bcef0d24e6c2da9e5&quot; style=&quot;width: 100.0%; height: 100.0%;&quot;&gt;Closest Coastline&lt;/div&gt;`)[0];\n                popup_d13e8b6cc29fc930fdd74913d6d38994.setContent(html_e6aca08a2ee7519bcef0d24e6c2da9e5);\n            \n        \n\n        marker_748abfba4107728877c535adc4847567.bindPopup(popup_d13e8b6cc29fc930fdd74913d6d38994)\n        ;\n\n        \n    \n    \n                marker_748abfba4107728877c535adc4847567.setIcon(icon_ee107a4519d66395c96492760a030a29);\n            \n    \n            var marker_05400bbf00e9d6ef50f1c64bd6043d62 = L.marker(\n                [28.56367, -80.57163],\n                {\n}\n            ).addTo(map_44af6490d616ffb2eb81c1f14fc011f3);\n        \n    \n            var div_icon_48a372b642abcebccfce466ca3a46eb2 = L.divIcon({\n  &quot;html&quot;: &quot;\\u003cdiv style=\\&quot;font-size: 12px; color:#d35400;\\&quot;\\u003e\\u003cb\\u003e      0.58 KM\\u003c/b\\u003e\\u003c/div\\u003e&quot;,\n  &quot;iconSize&quot;: [150, 36],\n  &quot;iconAnchor&quot;: [0, 0],\n  &quot;className&quot;: &quot;empty&quot;,\n});\n        \n    \n                marker_05400bbf00e9d6ef50f1c64bd6043d62.setIcon(div_icon_48a372b642abcebccfce466ca3a46eb2);\n            \n&lt;/script&gt;\n&lt;/html&gt;\" style=\"position:absolute;width:100%;height:100%;left:0;top:0;border:none !important;\" allowfullscreen webkitallowfullscreen mozallowfullscreen></iframe></div></div>"
          },
          "metadata": {}
        }
      ],
      "execution_count": 32
    },
    {
      "cell_type": "markdown",
      "source": "*TODO:* Draw a `PolyLine` between a launch site to the selected coastline point\n",
      "metadata": {}
    },
    {
      "cell_type": "code",
      "source": "# Create a `folium.PolyLine` object using the coastline coordinates and launch site coordinate\n# lines=folium.PolyLine(locations=coordinates, weight=1)\nimport folium\nfrom folium.features import DivIcon\n\n# Launch site and closest coastline coordinates\nlaunch_site_coord = [28.5623, -80.5774]\ncoastline_coord = [28.56367, -80.57163]\n\n# Create a base map centered on the launch site\nsite_map = folium.Map(location=launch_site_coord, zoom_start=10)\n\n# Add launch site marker\nfolium.Marker(\n    location=launch_site_coord,\n    popup=\"Launch Site\",\n    icon=folium.Icon(color='red', icon='rocket', prefix='fa')\n).add_to(site_map)\n\n# Add coastline marker\nfolium.Marker(\n    location=coastline_coord,\n    popup=\"Closest Coastline\",\n    icon=folium.Icon(color='blue', icon='info-sign')\n).add_to(site_map)\n\n# Add distance as a DivIcon\ndistance = 0.6  # replace with calculated distance if needed\ndistance_marker = folium.Marker(\n    location=coastline_coord,\n    icon=DivIcon(\n        icon_size=(150,36),\n        icon_anchor=(0,0),\n        html='<div style=\"font-size: 12px; color:#d35400;\"><b>%s</b></div>' \n             % \"{:10.2f} KM\".format(distance),\n    )\n)\ndistance_marker.add_to(site_map)\n\n# Draw a line between launch site and coastline\ncoordinates = [launch_site_coord, coastline_coord]\nlines = folium.PolyLine(locations=coordinates, weight=2, color='green', dash_array='5,5')\nsite_map.add_child(lines)\n\n# Display the map\nsite_map\n",
      "metadata": {
        "trusted": true
      },
      "outputs": [
        {
          "execution_count": 34,
          "output_type": "execute_result",
          "data": {
            "text/plain": "<folium.folium.Map at 0x5bdb578>",
            "text/html": "<div style=\"width:100%;\"><div style=\"position:relative;width:100%;height:0;padding-bottom:60%;\"><span style=\"color:#565656\">Make this Notebook Trusted to load map: File -> Trust Notebook</span><iframe srcdoc=\"&lt;!DOCTYPE html&gt;\n&lt;html&gt;\n&lt;head&gt;\n    \n    &lt;meta http-equiv=&quot;content-type&quot; content=&quot;text/html; charset=UTF-8&quot; /&gt;\n    &lt;script src=&quot;https://cdn.jsdelivr.net/npm/leaflet@1.9.3/dist/leaflet.js&quot;&gt;&lt;/script&gt;\n    &lt;script src=&quot;https://code.jquery.com/jquery-3.7.1.min.js&quot;&gt;&lt;/script&gt;\n    &lt;script src=&quot;https://cdn.jsdelivr.net/npm/bootstrap@5.2.2/dist/js/bootstrap.bundle.min.js&quot;&gt;&lt;/script&gt;\n    &lt;script src=&quot;https://cdnjs.cloudflare.com/ajax/libs/Leaflet.awesome-markers/2.0.2/leaflet.awesome-markers.js&quot;&gt;&lt;/script&gt;\n    &lt;link rel=&quot;stylesheet&quot; href=&quot;https://cdn.jsdelivr.net/npm/leaflet@1.9.3/dist/leaflet.css&quot;/&gt;\n    &lt;link rel=&quot;stylesheet&quot; href=&quot;https://cdn.jsdelivr.net/npm/bootstrap@5.2.2/dist/css/bootstrap.min.css&quot;/&gt;\n    &lt;link rel=&quot;stylesheet&quot; href=&quot;https://netdna.bootstrapcdn.com/bootstrap/3.0.0/css/bootstrap-glyphicons.css&quot;/&gt;\n    &lt;link rel=&quot;stylesheet&quot; href=&quot;https://cdn.jsdelivr.net/npm/@fortawesome/fontawesome-free@6.2.0/css/all.min.css&quot;/&gt;\n    &lt;link rel=&quot;stylesheet&quot; href=&quot;https://cdnjs.cloudflare.com/ajax/libs/Leaflet.awesome-markers/2.0.2/leaflet.awesome-markers.css&quot;/&gt;\n    &lt;link rel=&quot;stylesheet&quot; href=&quot;https://cdn.jsdelivr.net/gh/python-visualization/folium/folium/templates/leaflet.awesome.rotate.min.css&quot;/&gt;\n    \n            &lt;meta name=&quot;viewport&quot; content=&quot;width=device-width,\n                initial-scale=1.0, maximum-scale=1.0, user-scalable=no&quot; /&gt;\n            &lt;style&gt;\n                #map_55f7beeae6a2acb2f9236dfc09cfbd7f {\n                    position: relative;\n                    width: 100.0%;\n                    height: 100.0%;\n                    left: 0.0%;\n                    top: 0.0%;\n                }\n                .leaflet-container { font-size: 1rem; }\n            &lt;/style&gt;\n\n            &lt;style&gt;html, body {\n                width: 100%;\n                height: 100%;\n                margin: 0;\n                padding: 0;\n            }\n            &lt;/style&gt;\n\n            &lt;style&gt;#map {\n                position:absolute;\n                top:0;\n                bottom:0;\n                right:0;\n                left:0;\n                }\n            &lt;/style&gt;\n\n            &lt;script&gt;\n                L_NO_TOUCH = false;\n                L_DISABLE_3D = false;\n            &lt;/script&gt;\n\n        \n&lt;/head&gt;\n&lt;body&gt;\n    \n    \n            &lt;div class=&quot;folium-map&quot; id=&quot;map_55f7beeae6a2acb2f9236dfc09cfbd7f&quot; &gt;&lt;/div&gt;\n        \n&lt;/body&gt;\n&lt;script&gt;\n    \n    \n            var map_55f7beeae6a2acb2f9236dfc09cfbd7f = L.map(\n                &quot;map_55f7beeae6a2acb2f9236dfc09cfbd7f&quot;,\n                {\n                    center: [28.5623, -80.5774],\n                    crs: L.CRS.EPSG3857,\n                    ...{\n  &quot;zoom&quot;: 10,\n  &quot;zoomControl&quot;: true,\n  &quot;preferCanvas&quot;: false,\n}\n\n                }\n            );\n\n            \n\n        \n    \n            var tile_layer_1be7d54708064d896d7c41245d196fde = L.tileLayer(\n                &quot;https://tile.openstreetmap.org/{z}/{x}/{y}.png&quot;,\n                {\n  &quot;minZoom&quot;: 0,\n  &quot;maxZoom&quot;: 19,\n  &quot;maxNativeZoom&quot;: 19,\n  &quot;noWrap&quot;: false,\n  &quot;attribution&quot;: &quot;\\u0026copy; \\u003ca href=\\&quot;https://www.openstreetmap.org/copyright\\&quot;\\u003eOpenStreetMap\\u003c/a\\u003e contributors&quot;,\n  &quot;subdomains&quot;: &quot;abc&quot;,\n  &quot;detectRetina&quot;: false,\n  &quot;tms&quot;: false,\n  &quot;opacity&quot;: 1,\n}\n\n            );\n        \n    \n            tile_layer_1be7d54708064d896d7c41245d196fde.addTo(map_55f7beeae6a2acb2f9236dfc09cfbd7f);\n        \n    \n            var marker_6f7315a373ed1d2d8cf62e9a729ddcfe = L.marker(\n                [28.5623, -80.5774],\n                {\n}\n            ).addTo(map_55f7beeae6a2acb2f9236dfc09cfbd7f);\n        \n    \n            var icon_c9827561eefe2ceaf99436c87fd9f6bb = L.AwesomeMarkers.icon(\n                {\n  &quot;markerColor&quot;: &quot;red&quot;,\n  &quot;iconColor&quot;: &quot;white&quot;,\n  &quot;icon&quot;: &quot;rocket&quot;,\n  &quot;prefix&quot;: &quot;fa&quot;,\n  &quot;extraClasses&quot;: &quot;fa-rotate-0&quot;,\n}\n            );\n        \n    \n        var popup_08fd488e0fe670b3184eaa1792f46175 = L.popup({\n  &quot;maxWidth&quot;: &quot;100%&quot;,\n});\n\n        \n            \n                var html_ea9146167fa0c7cb455b5fb4a2c26d46 = $(`&lt;div id=&quot;html_ea9146167fa0c7cb455b5fb4a2c26d46&quot; style=&quot;width: 100.0%; height: 100.0%;&quot;&gt;Launch Site&lt;/div&gt;`)[0];\n                popup_08fd488e0fe670b3184eaa1792f46175.setContent(html_ea9146167fa0c7cb455b5fb4a2c26d46);\n            \n        \n\n        marker_6f7315a373ed1d2d8cf62e9a729ddcfe.bindPopup(popup_08fd488e0fe670b3184eaa1792f46175)\n        ;\n\n        \n    \n    \n                marker_6f7315a373ed1d2d8cf62e9a729ddcfe.setIcon(icon_c9827561eefe2ceaf99436c87fd9f6bb);\n            \n    \n            var marker_563ed6685c6b22011a6c76b28969ff31 = L.marker(\n                [28.56367, -80.57163],\n                {\n}\n            ).addTo(map_55f7beeae6a2acb2f9236dfc09cfbd7f);\n        \n    \n            var icon_b85786a533270ef84302fad30f03be1b = L.AwesomeMarkers.icon(\n                {\n  &quot;markerColor&quot;: &quot;blue&quot;,\n  &quot;iconColor&quot;: &quot;white&quot;,\n  &quot;icon&quot;: &quot;info-sign&quot;,\n  &quot;prefix&quot;: &quot;glyphicon&quot;,\n  &quot;extraClasses&quot;: &quot;fa-rotate-0&quot;,\n}\n            );\n        \n    \n        var popup_e241f60dac885bd3174b823fef6b3db1 = L.popup({\n  &quot;maxWidth&quot;: &quot;100%&quot;,\n});\n\n        \n            \n                var html_1938ade9dc14f7827b7efe5dfb4cb517 = $(`&lt;div id=&quot;html_1938ade9dc14f7827b7efe5dfb4cb517&quot; style=&quot;width: 100.0%; height: 100.0%;&quot;&gt;Closest Coastline&lt;/div&gt;`)[0];\n                popup_e241f60dac885bd3174b823fef6b3db1.setContent(html_1938ade9dc14f7827b7efe5dfb4cb517);\n            \n        \n\n        marker_563ed6685c6b22011a6c76b28969ff31.bindPopup(popup_e241f60dac885bd3174b823fef6b3db1)\n        ;\n\n        \n    \n    \n                marker_563ed6685c6b22011a6c76b28969ff31.setIcon(icon_b85786a533270ef84302fad30f03be1b);\n            \n    \n            var marker_7a0e45fa416c785fe4c333a22ba8e2a2 = L.marker(\n                [28.56367, -80.57163],\n                {\n}\n            ).addTo(map_55f7beeae6a2acb2f9236dfc09cfbd7f);\n        \n    \n            var div_icon_7d8704e21e51f75a2aef871bc569d767 = L.divIcon({\n  &quot;html&quot;: &quot;\\u003cdiv style=\\&quot;font-size: 12px; color:#d35400;\\&quot;\\u003e\\u003cb\\u003e      0.60 KM\\u003c/b\\u003e\\u003c/div\\u003e&quot;,\n  &quot;iconSize&quot;: [150, 36],\n  &quot;iconAnchor&quot;: [0, 0],\n  &quot;className&quot;: &quot;empty&quot;,\n});\n        \n    \n                marker_7a0e45fa416c785fe4c333a22ba8e2a2.setIcon(div_icon_7d8704e21e51f75a2aef871bc569d767);\n            \n    \n            var poly_line_e3e52c5d07e2d58a742f3f7de188b58b = L.polyline(\n                [[28.5623, -80.5774], [28.56367, -80.57163]],\n                {&quot;bubblingMouseEvents&quot;: true, &quot;color&quot;: &quot;green&quot;, &quot;dashArray&quot;: &quot;5,5&quot;, &quot;dashOffset&quot;: null, &quot;fill&quot;: false, &quot;fillColor&quot;: &quot;green&quot;, &quot;fillOpacity&quot;: 0.2, &quot;fillRule&quot;: &quot;evenodd&quot;, &quot;lineCap&quot;: &quot;round&quot;, &quot;lineJoin&quot;: &quot;round&quot;, &quot;noClip&quot;: false, &quot;opacity&quot;: 1.0, &quot;smoothFactor&quot;: 1.0, &quot;stroke&quot;: true, &quot;weight&quot;: 2}\n            ).addTo(map_55f7beeae6a2acb2f9236dfc09cfbd7f);\n        \n&lt;/script&gt;\n&lt;/html&gt;\" style=\"position:absolute;width:100%;height:100%;left:0;top:0;border:none !important;\" allowfullscreen webkitallowfullscreen mozallowfullscreen></iframe></div></div>"
          },
          "metadata": {}
        }
      ],
      "execution_count": 34
    },
    {
      "cell_type": "markdown",
      "source": "Your updated map with distance line should look like the following screenshot:\n",
      "metadata": {}
    },
    {
      "cell_type": "markdown",
      "source": "<center>\n    <img src=\"https://cf-courses-data.s3.us.cloud-object-storage.appdomain.cloud/IBM-DS0321EN-SkillsNetwork/labs/module_3/images/launch_site_marker_distance.png\">\n</center>\n",
      "metadata": {}
    },
    {
      "cell_type": "markdown",
      "source": "*TODO:* Similarly, you can draw a line betwee a launch site to its closest city, railway, highway, etc. You need to use `MousePosition` to find the their coordinates on the map first\n",
      "metadata": {}
    },
    {
      "cell_type": "markdown",
      "source": "A railway map symbol may look like this:\n",
      "metadata": {}
    },
    {
      "cell_type": "markdown",
      "source": "<center>\n    <img src=\"https://cf-courses-data.s3.us.cloud-object-storage.appdomain.cloud/IBM-DS0321EN-SkillsNetwork/labs/module_3/images/railway.png\">\n</center>\n",
      "metadata": {}
    },
    {
      "cell_type": "markdown",
      "source": "A highway map symbol may look like this:\n",
      "metadata": {}
    },
    {
      "cell_type": "markdown",
      "source": "<center>\n    <img src=\"https://cf-courses-data.s3.us.cloud-object-storage.appdomain.cloud/IBM-DS0321EN-SkillsNetwork/labs/module_3/images/highway.png\">\n</center>\n",
      "metadata": {}
    },
    {
      "cell_type": "markdown",
      "source": "A city map symbol may look like this:\n",
      "metadata": {}
    },
    {
      "cell_type": "markdown",
      "source": "<center>\n    <img src=\"https://cf-courses-data.s3.us.cloud-object-storage.appdomain.cloud/IBM-DS0321EN-SkillsNetwork/labs/module_3/images/city.png\">\n</center>\n",
      "metadata": {}
    },
    {
      "cell_type": "code",
      "source": "# Create a marker with distance to a closest city, railway, highway, etc.\n# Draw a line between the marker to the launch site\nimport folium\nfrom folium.features import DivIcon\nimport math\n\n# Haversine formula to calculate distance\ndef calculate_distance(lat1, lon1, lat2, lon2):\n    R = 6371  # Earth radius in km\n    phi1, phi2 = math.radians(lat1), math.radians(lat2)\n    delta_phi = math.radians(lat2 - lat1)\n    delta_lambda = math.radians(lon2 - lon1)\n    a = math.sin(delta_phi/2)**2 + math.cos(phi1)*math.cos(phi2)*math.sin(delta_lambda/2)**2\n    c = 2 * math.atan2(math.sqrt(a), math.sqrt(1-a))\n    return R * c\n\n# Launch site coordinates\nlaunch_site_coord = [28.5623, -80.5774]\n\n# Example nearby features (city, railway, highway)\nfeatures = [\n    {'name': 'Nearest City', 'coord': [28.5660, -80.5850]},\n    {'name': 'Nearest Railway', 'coord': [28.5600, -80.5800]},\n    {'name': 'Nearest Highway', 'coord': [28.5650, -80.5700]}\n]\n\n# Create a map\nsite_map = folium.Map(location=launch_site_coord, zoom_start=12)\n\n# Add launch site marker\nfolium.Marker(\n    location=launch_site_coord,\n    popup=\"Launch Site\",\n    icon=folium.Icon(color='red', icon='rocket', prefix='fa')\n).add_to(site_map)\n\n# Loop through features and add markers, distance, and lines\nfor feature in features:\n    feature_coord = feature['coord']\n    distance_km = calculate_distance(\n        launch_site_coord[0], launch_site_coord[1],\n        feature_coord[0], feature_coord[1]\n    )\n    \n    # Add feature marker\n    folium.Marker(\n        location=feature_coord,\n        popup=feature['name'],\n        icon=folium.Icon(color='blue', icon='info-sign')\n    ).add_to(site_map)\n    \n    # Add distance as DivIcon\n    folium.Marker(\n        location=feature_coord,\n        icon=DivIcon(\n            icon_size=(150,36),\n            icon_anchor=(0,0),\n            html='<div style=\"font-size: 12px; color:#d35400;\"><b>%s</b></div>' \n                 % \"{:10.2f} KM\".format(distance_km)\n        )\n    ).add_to(site_map)\n    \n    # Draw a line between launch site and feature\n    folium.PolyLine(locations=[launch_site_coord, feature_coord], \n                    weight=2, color='green', dash_array='5,5').add_to(site_map)\n\n# Display map\nsite_map\n",
      "metadata": {
        "trusted": true
      },
      "outputs": [
        {
          "execution_count": 35,
          "output_type": "execute_result",
          "data": {
            "text/plain": "<folium.folium.Map at 0x6086b00>",
            "text/html": "<div style=\"width:100%;\"><div style=\"position:relative;width:100%;height:0;padding-bottom:60%;\"><span style=\"color:#565656\">Make this Notebook Trusted to load map: File -> Trust Notebook</span><iframe srcdoc=\"&lt;!DOCTYPE html&gt;\n&lt;html&gt;\n&lt;head&gt;\n    \n    &lt;meta http-equiv=&quot;content-type&quot; content=&quot;text/html; charset=UTF-8&quot; /&gt;\n    &lt;script src=&quot;https://cdn.jsdelivr.net/npm/leaflet@1.9.3/dist/leaflet.js&quot;&gt;&lt;/script&gt;\n    &lt;script src=&quot;https://code.jquery.com/jquery-3.7.1.min.js&quot;&gt;&lt;/script&gt;\n    &lt;script src=&quot;https://cdn.jsdelivr.net/npm/bootstrap@5.2.2/dist/js/bootstrap.bundle.min.js&quot;&gt;&lt;/script&gt;\n    &lt;script src=&quot;https://cdnjs.cloudflare.com/ajax/libs/Leaflet.awesome-markers/2.0.2/leaflet.awesome-markers.js&quot;&gt;&lt;/script&gt;\n    &lt;link rel=&quot;stylesheet&quot; href=&quot;https://cdn.jsdelivr.net/npm/leaflet@1.9.3/dist/leaflet.css&quot;/&gt;\n    &lt;link rel=&quot;stylesheet&quot; href=&quot;https://cdn.jsdelivr.net/npm/bootstrap@5.2.2/dist/css/bootstrap.min.css&quot;/&gt;\n    &lt;link rel=&quot;stylesheet&quot; href=&quot;https://netdna.bootstrapcdn.com/bootstrap/3.0.0/css/bootstrap-glyphicons.css&quot;/&gt;\n    &lt;link rel=&quot;stylesheet&quot; href=&quot;https://cdn.jsdelivr.net/npm/@fortawesome/fontawesome-free@6.2.0/css/all.min.css&quot;/&gt;\n    &lt;link rel=&quot;stylesheet&quot; href=&quot;https://cdnjs.cloudflare.com/ajax/libs/Leaflet.awesome-markers/2.0.2/leaflet.awesome-markers.css&quot;/&gt;\n    &lt;link rel=&quot;stylesheet&quot; href=&quot;https://cdn.jsdelivr.net/gh/python-visualization/folium/folium/templates/leaflet.awesome.rotate.min.css&quot;/&gt;\n    \n            &lt;meta name=&quot;viewport&quot; content=&quot;width=device-width,\n                initial-scale=1.0, maximum-scale=1.0, user-scalable=no&quot; /&gt;\n            &lt;style&gt;\n                #map_a15956a97e2c7bda06ef3b2512edc959 {\n                    position: relative;\n                    width: 100.0%;\n                    height: 100.0%;\n                    left: 0.0%;\n                    top: 0.0%;\n                }\n                .leaflet-container { font-size: 1rem; }\n            &lt;/style&gt;\n\n            &lt;style&gt;html, body {\n                width: 100%;\n                height: 100%;\n                margin: 0;\n                padding: 0;\n            }\n            &lt;/style&gt;\n\n            &lt;style&gt;#map {\n                position:absolute;\n                top:0;\n                bottom:0;\n                right:0;\n                left:0;\n                }\n            &lt;/style&gt;\n\n            &lt;script&gt;\n                L_NO_TOUCH = false;\n                L_DISABLE_3D = false;\n            &lt;/script&gt;\n\n        \n&lt;/head&gt;\n&lt;body&gt;\n    \n    \n            &lt;div class=&quot;folium-map&quot; id=&quot;map_a15956a97e2c7bda06ef3b2512edc959&quot; &gt;&lt;/div&gt;\n        \n&lt;/body&gt;\n&lt;script&gt;\n    \n    \n            var map_a15956a97e2c7bda06ef3b2512edc959 = L.map(\n                &quot;map_a15956a97e2c7bda06ef3b2512edc959&quot;,\n                {\n                    center: [28.5623, -80.5774],\n                    crs: L.CRS.EPSG3857,\n                    ...{\n  &quot;zoom&quot;: 12,\n  &quot;zoomControl&quot;: true,\n  &quot;preferCanvas&quot;: false,\n}\n\n                }\n            );\n\n            \n\n        \n    \n            var tile_layer_2f1031df154a484cb360ace55078c34f = L.tileLayer(\n                &quot;https://tile.openstreetmap.org/{z}/{x}/{y}.png&quot;,\n                {\n  &quot;minZoom&quot;: 0,\n  &quot;maxZoom&quot;: 19,\n  &quot;maxNativeZoom&quot;: 19,\n  &quot;noWrap&quot;: false,\n  &quot;attribution&quot;: &quot;\\u0026copy; \\u003ca href=\\&quot;https://www.openstreetmap.org/copyright\\&quot;\\u003eOpenStreetMap\\u003c/a\\u003e contributors&quot;,\n  &quot;subdomains&quot;: &quot;abc&quot;,\n  &quot;detectRetina&quot;: false,\n  &quot;tms&quot;: false,\n  &quot;opacity&quot;: 1,\n}\n\n            );\n        \n    \n            tile_layer_2f1031df154a484cb360ace55078c34f.addTo(map_a15956a97e2c7bda06ef3b2512edc959);\n        \n    \n            var marker_abc10e5fe5925152302345b8c4970ebb = L.marker(\n                [28.5623, -80.5774],\n                {\n}\n            ).addTo(map_a15956a97e2c7bda06ef3b2512edc959);\n        \n    \n            var icon_0c69a03a3ac7aee45f7b4ac5104028cc = L.AwesomeMarkers.icon(\n                {\n  &quot;markerColor&quot;: &quot;red&quot;,\n  &quot;iconColor&quot;: &quot;white&quot;,\n  &quot;icon&quot;: &quot;rocket&quot;,\n  &quot;prefix&quot;: &quot;fa&quot;,\n  &quot;extraClasses&quot;: &quot;fa-rotate-0&quot;,\n}\n            );\n        \n    \n        var popup_4e617bdba36500f6c6cc95281eea5bc7 = L.popup({\n  &quot;maxWidth&quot;: &quot;100%&quot;,\n});\n\n        \n            \n                var html_ab73badd49cc4581a441326e0cb55e75 = $(`&lt;div id=&quot;html_ab73badd49cc4581a441326e0cb55e75&quot; style=&quot;width: 100.0%; height: 100.0%;&quot;&gt;Launch Site&lt;/div&gt;`)[0];\n                popup_4e617bdba36500f6c6cc95281eea5bc7.setContent(html_ab73badd49cc4581a441326e0cb55e75);\n            \n        \n\n        marker_abc10e5fe5925152302345b8c4970ebb.bindPopup(popup_4e617bdba36500f6c6cc95281eea5bc7)\n        ;\n\n        \n    \n    \n                marker_abc10e5fe5925152302345b8c4970ebb.setIcon(icon_0c69a03a3ac7aee45f7b4ac5104028cc);\n            \n    \n            var marker_34a0ebf5c1f5117a163a1fcb4eb4cdaa = L.marker(\n                [28.566, -80.585],\n                {\n}\n            ).addTo(map_a15956a97e2c7bda06ef3b2512edc959);\n        \n    \n            var icon_7aac6a2f7c477606cd14201c6babed8b = L.AwesomeMarkers.icon(\n                {\n  &quot;markerColor&quot;: &quot;blue&quot;,\n  &quot;iconColor&quot;: &quot;white&quot;,\n  &quot;icon&quot;: &quot;info-sign&quot;,\n  &quot;prefix&quot;: &quot;glyphicon&quot;,\n  &quot;extraClasses&quot;: &quot;fa-rotate-0&quot;,\n}\n            );\n        \n    \n        var popup_68ced2abb32110cf7e42197e646b605d = L.popup({\n  &quot;maxWidth&quot;: &quot;100%&quot;,\n});\n\n        \n            \n                var html_ce5025386bed89077f13c80d907e1596 = $(`&lt;div id=&quot;html_ce5025386bed89077f13c80d907e1596&quot; style=&quot;width: 100.0%; height: 100.0%;&quot;&gt;Nearest City&lt;/div&gt;`)[0];\n                popup_68ced2abb32110cf7e42197e646b605d.setContent(html_ce5025386bed89077f13c80d907e1596);\n            \n        \n\n        marker_34a0ebf5c1f5117a163a1fcb4eb4cdaa.bindPopup(popup_68ced2abb32110cf7e42197e646b605d)\n        ;\n\n        \n    \n    \n                marker_34a0ebf5c1f5117a163a1fcb4eb4cdaa.setIcon(icon_7aac6a2f7c477606cd14201c6babed8b);\n            \n    \n            var marker_1e3199873eef03fa34c893cf85afcd08 = L.marker(\n                [28.566, -80.585],\n                {\n}\n            ).addTo(map_a15956a97e2c7bda06ef3b2512edc959);\n        \n    \n            var div_icon_c63e27406b7ca68564bd3924890bba2e = L.divIcon({\n  &quot;html&quot;: &quot;\\u003cdiv style=\\&quot;font-size: 12px; color:#d35400;\\&quot;\\u003e\\u003cb\\u003e      0.85 KM\\u003c/b\\u003e\\u003c/div\\u003e&quot;,\n  &quot;iconSize&quot;: [150, 36],\n  &quot;iconAnchor&quot;: [0, 0],\n  &quot;className&quot;: &quot;empty&quot;,\n});\n        \n    \n                marker_1e3199873eef03fa34c893cf85afcd08.setIcon(div_icon_c63e27406b7ca68564bd3924890bba2e);\n            \n    \n            var poly_line_6d805dee7a49cb4546e0ae1ab62ae116 = L.polyline(\n                [[28.5623, -80.5774], [28.566, -80.585]],\n                {&quot;bubblingMouseEvents&quot;: true, &quot;color&quot;: &quot;green&quot;, &quot;dashArray&quot;: &quot;5,5&quot;, &quot;dashOffset&quot;: null, &quot;fill&quot;: false, &quot;fillColor&quot;: &quot;green&quot;, &quot;fillOpacity&quot;: 0.2, &quot;fillRule&quot;: &quot;evenodd&quot;, &quot;lineCap&quot;: &quot;round&quot;, &quot;lineJoin&quot;: &quot;round&quot;, &quot;noClip&quot;: false, &quot;opacity&quot;: 1.0, &quot;smoothFactor&quot;: 1.0, &quot;stroke&quot;: true, &quot;weight&quot;: 2}\n            ).addTo(map_a15956a97e2c7bda06ef3b2512edc959);\n        \n    \n            var marker_d9787fad7b2410313f2c5849b8bbf98b = L.marker(\n                [28.56, -80.58],\n                {\n}\n            ).addTo(map_a15956a97e2c7bda06ef3b2512edc959);\n        \n    \n            var icon_77944aa973ef1cce93bc234ef7f879da = L.AwesomeMarkers.icon(\n                {\n  &quot;markerColor&quot;: &quot;blue&quot;,\n  &quot;iconColor&quot;: &quot;white&quot;,\n  &quot;icon&quot;: &quot;info-sign&quot;,\n  &quot;prefix&quot;: &quot;glyphicon&quot;,\n  &quot;extraClasses&quot;: &quot;fa-rotate-0&quot;,\n}\n            );\n        \n    \n        var popup_d503521033fb9778c1d68a6948697741 = L.popup({\n  &quot;maxWidth&quot;: &quot;100%&quot;,\n});\n\n        \n            \n                var html_70d3226a5e31d4784e79b254233aa495 = $(`&lt;div id=&quot;html_70d3226a5e31d4784e79b254233aa495&quot; style=&quot;width: 100.0%; height: 100.0%;&quot;&gt;Nearest Railway&lt;/div&gt;`)[0];\n                popup_d503521033fb9778c1d68a6948697741.setContent(html_70d3226a5e31d4784e79b254233aa495);\n            \n        \n\n        marker_d9787fad7b2410313f2c5849b8bbf98b.bindPopup(popup_d503521033fb9778c1d68a6948697741)\n        ;\n\n        \n    \n    \n                marker_d9787fad7b2410313f2c5849b8bbf98b.setIcon(icon_77944aa973ef1cce93bc234ef7f879da);\n            \n    \n            var marker_145a51077fd2ebc456b81cb3c1494bb9 = L.marker(\n                [28.56, -80.58],\n                {\n}\n            ).addTo(map_a15956a97e2c7bda06ef3b2512edc959);\n        \n    \n            var div_icon_1e8823d128ea9a829438b251d4fe85b6 = L.divIcon({\n  &quot;html&quot;: &quot;\\u003cdiv style=\\&quot;font-size: 12px; color:#d35400;\\&quot;\\u003e\\u003cb\\u003e      0.36 KM\\u003c/b\\u003e\\u003c/div\\u003e&quot;,\n  &quot;iconSize&quot;: [150, 36],\n  &quot;iconAnchor&quot;: [0, 0],\n  &quot;className&quot;: &quot;empty&quot;,\n});\n        \n    \n                marker_145a51077fd2ebc456b81cb3c1494bb9.setIcon(div_icon_1e8823d128ea9a829438b251d4fe85b6);\n            \n    \n            var poly_line_0e52d6ac6267eaa192f9682670805277 = L.polyline(\n                [[28.5623, -80.5774], [28.56, -80.58]],\n                {&quot;bubblingMouseEvents&quot;: true, &quot;color&quot;: &quot;green&quot;, &quot;dashArray&quot;: &quot;5,5&quot;, &quot;dashOffset&quot;: null, &quot;fill&quot;: false, &quot;fillColor&quot;: &quot;green&quot;, &quot;fillOpacity&quot;: 0.2, &quot;fillRule&quot;: &quot;evenodd&quot;, &quot;lineCap&quot;: &quot;round&quot;, &quot;lineJoin&quot;: &quot;round&quot;, &quot;noClip&quot;: false, &quot;opacity&quot;: 1.0, &quot;smoothFactor&quot;: 1.0, &quot;stroke&quot;: true, &quot;weight&quot;: 2}\n            ).addTo(map_a15956a97e2c7bda06ef3b2512edc959);\n        \n    \n            var marker_a0fe07601b8be5050990dfbdb975d94b = L.marker(\n                [28.565, -80.57],\n                {\n}\n            ).addTo(map_a15956a97e2c7bda06ef3b2512edc959);\n        \n    \n            var icon_c1f44225a2664a930da9e9a1cf0ed83c = L.AwesomeMarkers.icon(\n                {\n  &quot;markerColor&quot;: &quot;blue&quot;,\n  &quot;iconColor&quot;: &quot;white&quot;,\n  &quot;icon&quot;: &quot;info-sign&quot;,\n  &quot;prefix&quot;: &quot;glyphicon&quot;,\n  &quot;extraClasses&quot;: &quot;fa-rotate-0&quot;,\n}\n            );\n        \n    \n        var popup_3db5db7b25aa19e3ac5026d743149f12 = L.popup({\n  &quot;maxWidth&quot;: &quot;100%&quot;,\n});\n\n        \n            \n                var html_aa8141786a9930eebd3805d0944b42e1 = $(`&lt;div id=&quot;html_aa8141786a9930eebd3805d0944b42e1&quot; style=&quot;width: 100.0%; height: 100.0%;&quot;&gt;Nearest Highway&lt;/div&gt;`)[0];\n                popup_3db5db7b25aa19e3ac5026d743149f12.setContent(html_aa8141786a9930eebd3805d0944b42e1);\n            \n        \n\n        marker_a0fe07601b8be5050990dfbdb975d94b.bindPopup(popup_3db5db7b25aa19e3ac5026d743149f12)\n        ;\n\n        \n    \n    \n                marker_a0fe07601b8be5050990dfbdb975d94b.setIcon(icon_c1f44225a2664a930da9e9a1cf0ed83c);\n            \n    \n            var marker_1adf57414c374e34dc02f5cf45679247 = L.marker(\n                [28.565, -80.57],\n                {\n}\n            ).addTo(map_a15956a97e2c7bda06ef3b2512edc959);\n        \n    \n            var div_icon_62bc95b7c9eb9bcc854a39dacf14b345 = L.divIcon({\n  &quot;html&quot;: &quot;\\u003cdiv style=\\&quot;font-size: 12px; color:#d35400;\\&quot;\\u003e\\u003cb\\u003e      0.78 KM\\u003c/b\\u003e\\u003c/div\\u003e&quot;,\n  &quot;iconSize&quot;: [150, 36],\n  &quot;iconAnchor&quot;: [0, 0],\n  &quot;className&quot;: &quot;empty&quot;,\n});\n        \n    \n                marker_1adf57414c374e34dc02f5cf45679247.setIcon(div_icon_62bc95b7c9eb9bcc854a39dacf14b345);\n            \n    \n            var poly_line_ec3bfca25eb43eeaf1973e58edeb5a96 = L.polyline(\n                [[28.5623, -80.5774], [28.565, -80.57]],\n                {&quot;bubblingMouseEvents&quot;: true, &quot;color&quot;: &quot;green&quot;, &quot;dashArray&quot;: &quot;5,5&quot;, &quot;dashOffset&quot;: null, &quot;fill&quot;: false, &quot;fillColor&quot;: &quot;green&quot;, &quot;fillOpacity&quot;: 0.2, &quot;fillRule&quot;: &quot;evenodd&quot;, &quot;lineCap&quot;: &quot;round&quot;, &quot;lineJoin&quot;: &quot;round&quot;, &quot;noClip&quot;: false, &quot;opacity&quot;: 1.0, &quot;smoothFactor&quot;: 1.0, &quot;stroke&quot;: true, &quot;weight&quot;: 2}\n            ).addTo(map_a15956a97e2c7bda06ef3b2512edc959);\n        \n&lt;/script&gt;\n&lt;/html&gt;\" style=\"position:absolute;width:100%;height:100%;left:0;top:0;border:none !important;\" allowfullscreen webkitallowfullscreen mozallowfullscreen></iframe></div></div>"
          },
          "metadata": {}
        }
      ],
      "execution_count": 35
    },
    {
      "cell_type": "code",
      "source": "",
      "metadata": {},
      "outputs": [],
      "execution_count": null
    },
    {
      "cell_type": "code",
      "source": "",
      "metadata": {},
      "outputs": [],
      "execution_count": null
    },
    {
      "cell_type": "markdown",
      "source": "After you plot distance lines to the proximities, you can answer the following questions easily:\n\n*   Are launch sites in close proximity to railways?\n*   Are launch sites in close proximity to highways?\n*   Are launch sites in close proximity to coastline?\n*   Do launch sites keep certain distance away from cities?\n\nAlso please try to explain your findings.\n",
      "metadata": {}
    },
    {
      "cell_type": "markdown",
      "source": "# Next Steps:\n\nNow you have discovered many interesting insights related to the launch sites' location using folium, in a very interactive way. Next, you will need to build a dashboard using Ploty Dash on detailed launch records.\n",
      "metadata": {}
    },
    {
      "cell_type": "markdown",
      "source": "## Authors\n",
      "metadata": {}
    },
    {
      "cell_type": "markdown",
      "source": "[Pratiksha Verma](https://www.linkedin.com/in/pratiksha-verma-6487561b1/)\n",
      "metadata": {}
    },
    {
      "cell_type": "markdown",
      "source": "<!--## Change Log--!>\n",
      "metadata": {}
    },
    {
      "cell_type": "markdown",
      "source": "<!--| Date (YYYY-MM-DD) | Version | Changed By      | Change Description      |\n| ----------------- | ------- | -------------   | ----------------------- |\n| 2022-11-09        | 1.0     | Pratiksha Verma | Converted initial version to Jupyterlite|--!>\n",
      "metadata": {}
    },
    {
      "cell_type": "markdown",
      "source": "### <h3 align=\"center\"> IBM Corporation 2022. All rights reserved. <h3/>\n",
      "metadata": {}
    }
  ]
}